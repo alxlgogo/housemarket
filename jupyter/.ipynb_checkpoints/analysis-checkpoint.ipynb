{
 "cells": [
  {
   "cell_type": "markdown",
   "id": "590c41d6",
   "metadata": {},
   "source": [
    "# 1. import utils"
   ]
  },
  {
   "cell_type": "code",
   "execution_count": 150,
   "id": "ebcfbb0d",
   "metadata": {},
   "outputs": [],
   "source": [
    "import pandas as pd\n",
    "import numpy as np\n",
    "%matplotlib inline\n",
    "import matplotlib.pyplot as plt\n",
    "import statsmodels.api as sm\n",
    "\n",
    "from matplotlib.pylab import rcParams\n",
    "import seaborn as sns     #seaborn画出的图更好看，且代码更简单，缺点是可塑性差\n",
    "from statsmodels.graphics.tsaplots import plot_acf  #自相关图\n",
    "from statsmodels.tsa.stattools import adfuller as ADF  #平稳性检测\n",
    "from statsmodels.graphics.tsaplots import plot_pacf    #偏自相关图\n",
    "from statsmodels.stats.diagnostic import acorr_ljungbox    #白噪声检验\n",
    "from statsmodels.tsa.arima_model import ARIMA"
   ]
  },
  {
   "cell_type": "markdown",
   "id": "7c117214",
   "metadata": {},
   "source": [
    "# 2. read data"
   ]
  },
  {
   "cell_type": "code",
   "execution_count": 151,
   "id": "26d26d48",
   "metadata": {
    "scrolled": true
   },
   "outputs": [
    {
     "name": "stdout",
     "output_type": "stream",
     "text": [
      "   YEAR National  Dublin    Cork  Galway Limerick Waterford Other Areas\n",
      "0  1969      NaN   6,603     NaN     NaN      NaN       NaN         NaN\n",
      "1  1970      NaN   7,618     NaN     NaN      NaN       NaN       6,427\n",
      "2  1971      NaN   8,888     NaN     NaN      NaN       NaN       7,198\n",
      "3  1972      NaN   9,828     NaN     NaN      NaN       NaN       8,054\n",
      "4  1974   11,817  11,777     NaN     NaN      NaN       NaN      10,851\n",
      "5  1975   12,478  12,774     NaN     NaN      NaN       NaN      13,833\n",
      "6  1976   15,303  15,850  15,139  16,858   14,018    14,545      15,361\n",
      "7  1977   17,925  18,778  17,898  20,792   16,681    16,505      18,025\n",
      "8  1978   21,895  22,920  21,427  27,862   20,136    20,381      22,839\n",
      "9  1979   27,598  30,092  27,734  29,539   25,847    22,565      27,137\n"
     ]
    }
   ],
   "source": [
    "#数据导入和查看\n",
    "data=pd.read_csv('../data/SecondHand_Property _prices.csv')\n",
    "# print(data.head())\n",
    "print(data[:10])"
   ]
  },
  {
   "cell_type": "markdown",
   "id": "b9ec783c",
   "metadata": {},
   "source": [
    "# 3. convert data into time serious\n",
    "## 3.1 convert time object into timestamp"
   ]
  },
  {
   "cell_type": "code",
   "execution_count": 152,
   "id": "2f22bcfa",
   "metadata": {},
   "outputs": [
    {
     "name": "stdout",
     "output_type": "stream",
     "text": [
      "              Cork\n",
      "YEAR              \n",
      "1969-01-01     NaN\n",
      "1970-01-01     NaN\n",
      "1971-01-01     NaN\n",
      "1972-01-01     NaN\n",
      "1974-01-01     NaN\n",
      "1975-01-01     NaN\n",
      "1976-01-01  15,139\n",
      "1977-01-01  17,898\n",
      "1978-01-01  21,427\n",
      "1979-01-01  27,734\n"
     ]
    }
   ],
   "source": [
    "#format time\n",
    "city = 'Cork';\n",
    "data['YEAR'] = pd.to_datetime(data['YEAR'], format='%Y')\n",
    "ts = pd.DataFrame(data, columns = ['YEAR', city])\n",
    "ts.index=ts['YEAR']\n",
    "del ts['YEAR']\n",
    "print(ts[:10])"
   ]
  },
  {
   "cell_type": "markdown",
   "id": "d68644a5",
   "metadata": {},
   "source": [
    "## 3.2 convert currency(From Object to folat : 1,230 ----> 1230)"
   ]
  },
  {
   "cell_type": "code",
   "execution_count": 153,
   "id": "fe7a8147",
   "metadata": {},
   "outputs": [],
   "source": [
    "#  ts['Cork'].dropna()"
   ]
  },
  {
   "cell_type": "code",
   "execution_count": 155,
   "id": "a07f8423",
   "metadata": {
    "scrolled": true
   },
   "outputs": [
    {
     "name": "stdout",
     "output_type": "stream",
     "text": [
      "               Cork\n",
      "YEAR               \n",
      "1969-01-01      NaN\n",
      "1970-01-01      NaN\n",
      "1971-01-01      NaN\n",
      "1972-01-01      NaN\n",
      "1974-01-01      NaN\n",
      "1975-01-01      NaN\n",
      "1976-01-01  15139.0\n",
      "1977-01-01  17898.0\n",
      "1978-01-01  21427.0\n",
      "1979-01-01  27734.0\n"
     ]
    }
   ],
   "source": [
    "#convert currency\n",
    "def convert_currency(value):\n",
    "    new_value = value.replace(',', '')\n",
    "    return np.float64(new_value)\n",
    "\n",
    "ts[city] = ts[city].dropna().apply(convert_currency)\n",
    "print(ts[:10])"
   ]
  },
  {
   "cell_type": "markdown",
   "id": "d967a053",
   "metadata": {},
   "source": [
    "# 4. check stationarity\n",
    "## 4.1 show time series plot\n",
    "### 4.11 Observe the time series plot BELOW, the growth trend is obvious and not stable.(NOT STABLE)"
   ]
  },
  {
   "cell_type": "code",
   "execution_count": 158,
   "id": "71aa7f9c",
   "metadata": {
    "scrolled": true
   },
   "outputs": [
    {
     "data": {
      "text/plain": [
       "[<matplotlib.lines.Line2D at 0x7f81bc1cca90>]"
      ]
     },
     "execution_count": 158,
     "metadata": {},
     "output_type": "execute_result"
    },
    {
     "data": {
      "image/png": "[encoded data removed]",
      "text/plain": [
       "<Figure size 864x288 with 1 Axes>"
      ]
     },
     "metadata": {
      "needs_background": "light"
     },
     "output_type": "display_data"
    }
   ],
   "source": [
    "plt.figure(figsize=(12, 4));\n",
    "plt.title('secondhand house price')\n",
    "plt.plot(ts)"
   ]
  },
  {
   "cell_type": "markdown",
   "id": "63bb7ef7",
   "metadata": {},
   "source": [
    "## 4.2 ACF (check stationarity)"
   ]
  },
  {
   "cell_type": "code",
   "execution_count": 162,
   "id": "ff62ba43",
   "metadata": {},
   "outputs": [
    {
     "data": {
      "text/html": [
       "<div>\n",
       "<style scoped>\n",
       "    .dataframe tbody tr th:only-of-type {\n",
       "        vertical-align: middle;\n",
       "    }\n",
       "\n",
       "    .dataframe tbody tr th {\n",
       "        vertical-align: top;\n",
       "    }\n",
       "\n",
       "    .dataframe thead th {\n",
       "        text-align: right;\n",
       "    }\n",
       "</style>\n",
       "<table border=\"1\" class=\"dataframe\">\n",
       "  <thead>\n",
       "    <tr style=\"text-align: right;\">\n",
       "      <th></th>\n",
       "      <th>Cork</th>\n",
       "    </tr>\n",
       "    <tr>\n",
       "      <th>YEAR</th>\n",
       "      <th></th>\n",
       "    </tr>\n",
       "  </thead>\n",
       "  <tbody>\n",
       "    <tr>\n",
       "      <th>1976-01-01</th>\n",
       "      <td>15139.0</td>\n",
       "    </tr>\n",
       "    <tr>\n",
       "      <th>1977-01-01</th>\n",
       "      <td>17898.0</td>\n",
       "    </tr>\n",
       "    <tr>\n",
       "      <th>1978-01-01</th>\n",
       "      <td>21427.0</td>\n",
       "    </tr>\n",
       "    <tr>\n",
       "      <th>1979-01-01</th>\n",
       "      <td>27734.0</td>\n",
       "    </tr>\n",
       "    <tr>\n",
       "      <th>1980-01-01</th>\n",
       "      <td>32387.0</td>\n",
       "    </tr>\n",
       "    <tr>\n",
       "      <th>1981-01-01</th>\n",
       "      <td>34777.0</td>\n",
       "    </tr>\n",
       "    <tr>\n",
       "      <th>1982-01-01</th>\n",
       "      <td>35437.0</td>\n",
       "    </tr>\n",
       "    <tr>\n",
       "      <th>1983-01-01</th>\n",
       "      <td>36836.0</td>\n",
       "    </tr>\n",
       "    <tr>\n",
       "      <th>1984-01-01</th>\n",
       "      <td>37032.0</td>\n",
       "    </tr>\n",
       "    <tr>\n",
       "      <th>1985-01-01</th>\n",
       "      <td>40210.0</td>\n",
       "    </tr>\n",
       "    <tr>\n",
       "      <th>1986-01-01</th>\n",
       "      <td>42577.0</td>\n",
       "    </tr>\n",
       "    <tr>\n",
       "      <th>1987-01-01</th>\n",
       "      <td>43873.0</td>\n",
       "    </tr>\n",
       "    <tr>\n",
       "      <th>1988-01-01</th>\n",
       "      <td>47752.0</td>\n",
       "    </tr>\n",
       "    <tr>\n",
       "      <th>1989-01-01</th>\n",
       "      <td>51032.0</td>\n",
       "    </tr>\n",
       "    <tr>\n",
       "      <th>1990-01-01</th>\n",
       "      <td>54803.0</td>\n",
       "    </tr>\n",
       "    <tr>\n",
       "      <th>1991-01-01</th>\n",
       "      <td>56959.0</td>\n",
       "    </tr>\n",
       "    <tr>\n",
       "      <th>1992-01-01</th>\n",
       "      <td>56979.0</td>\n",
       "    </tr>\n",
       "    <tr>\n",
       "      <th>1993-01-01</th>\n",
       "      <td>59669.0</td>\n",
       "    </tr>\n",
       "    <tr>\n",
       "      <th>1994-01-01</th>\n",
       "      <td>63883.0</td>\n",
       "    </tr>\n",
       "    <tr>\n",
       "      <th>1995-01-01</th>\n",
       "      <td>70796.0</td>\n",
       "    </tr>\n",
       "    <tr>\n",
       "      <th>1996-01-01</th>\n",
       "      <td>77152.0</td>\n",
       "    </tr>\n",
       "    <tr>\n",
       "      <th>1997-01-01</th>\n",
       "      <td>88535.0</td>\n",
       "    </tr>\n",
       "    <tr>\n",
       "      <th>1998-01-01</th>\n",
       "      <td>110432.0</td>\n",
       "    </tr>\n",
       "    <tr>\n",
       "      <th>1999-01-01</th>\n",
       "      <td>139473.0</td>\n",
       "    </tr>\n",
       "    <tr>\n",
       "      <th>2000-01-01</th>\n",
       "      <td>169064.0</td>\n",
       "    </tr>\n",
       "    <tr>\n",
       "      <th>2001-01-01</th>\n",
       "      <td>179687.0</td>\n",
       "    </tr>\n",
       "    <tr>\n",
       "      <th>2002-01-01</th>\n",
       "      <td>200155.0</td>\n",
       "    </tr>\n",
       "    <tr>\n",
       "      <th>2003-01-01</th>\n",
       "      <td>240444.0</td>\n",
       "    </tr>\n",
       "    <tr>\n",
       "      <th>2004-01-01</th>\n",
       "      <td>273605.0</td>\n",
       "    </tr>\n",
       "    <tr>\n",
       "      <th>2005-01-01</th>\n",
       "      <td>307007.0</td>\n",
       "    </tr>\n",
       "    <tr>\n",
       "      <th>2006-01-01</th>\n",
       "      <td>353104.0</td>\n",
       "    </tr>\n",
       "    <tr>\n",
       "      <th>2007-01-01</th>\n",
       "      <td>368523.0</td>\n",
       "    </tr>\n",
       "    <tr>\n",
       "      <th>2008-01-01</th>\n",
       "      <td>340467.0</td>\n",
       "    </tr>\n",
       "    <tr>\n",
       "      <th>2009-01-01</th>\n",
       "      <td>245224.0</td>\n",
       "    </tr>\n",
       "    <tr>\n",
       "      <th>2010-01-01</th>\n",
       "      <td>251756.0</td>\n",
       "    </tr>\n",
       "    <tr>\n",
       "      <th>2011-01-01</th>\n",
       "      <td>228763.0</td>\n",
       "    </tr>\n",
       "    <tr>\n",
       "      <th>2012-01-01</th>\n",
       "      <td>219544.0</td>\n",
       "    </tr>\n",
       "    <tr>\n",
       "      <th>2013-01-01</th>\n",
       "      <td>210723.0</td>\n",
       "    </tr>\n",
       "    <tr>\n",
       "      <th>2014-01-01</th>\n",
       "      <td>209926.0</td>\n",
       "    </tr>\n",
       "    <tr>\n",
       "      <th>2015-01-01</th>\n",
       "      <td>221723.0</td>\n",
       "    </tr>\n",
       "  </tbody>\n",
       "</table>\n",
       "</div>"
      ],
      "text/plain": [
       "                Cork\n",
       "YEAR                \n",
       "1976-01-01   15139.0\n",
       "1977-01-01   17898.0\n",
       "1978-01-01   21427.0\n",
       "1979-01-01   27734.0\n",
       "1980-01-01   32387.0\n",
       "1981-01-01   34777.0\n",
       "1982-01-01   35437.0\n",
       "1983-01-01   36836.0\n",
       "1984-01-01   37032.0\n",
       "1985-01-01   40210.0\n",
       "1986-01-01   42577.0\n",
       "1987-01-01   43873.0\n",
       "1988-01-01   47752.0\n",
       "1989-01-01   51032.0\n",
       "1990-01-01   54803.0\n",
       "1991-01-01   56959.0\n",
       "1992-01-01   56979.0\n",
       "1993-01-01   59669.0\n",
       "1994-01-01   63883.0\n",
       "1995-01-01   70796.0\n",
       "1996-01-01   77152.0\n",
       "1997-01-01   88535.0\n",
       "1998-01-01  110432.0\n",
       "1999-01-01  139473.0\n",
       "2000-01-01  169064.0\n",
       "2001-01-01  179687.0\n",
       "2002-01-01  200155.0\n",
       "2003-01-01  240444.0\n",
       "2004-01-01  273605.0\n",
       "2005-01-01  307007.0\n",
       "2006-01-01  353104.0\n",
       "2007-01-01  368523.0\n",
       "2008-01-01  340467.0\n",
       "2009-01-01  245224.0\n",
       "2010-01-01  251756.0\n",
       "2011-01-01  228763.0\n",
       "2012-01-01  219544.0\n",
       "2013-01-01  210723.0\n",
       "2014-01-01  209926.0\n",
       "2015-01-01  221723.0"
      ]
     },
     "execution_count": 162,
     "metadata": {},
     "output_type": "execute_result"
    }
   ],
   "source": [
    "ts.dropna()"
   ]
  },
  {
   "cell_type": "code",
   "execution_count": 165,
   "id": "7b7d0b1c",
   "metadata": {},
   "outputs": [
    {
     "data": {
      "image/png": "[encoded data removed]",
      "text/plain": [
       "<Figure size 864x288 with 1 Axes>"
      ]
     },
     "metadata": {
      "needs_background": "light"
     },
     "output_type": "display_data"
    }
   ],
   "source": [
    "# plot_acf(ts,lags=len(ts)-1);\n",
    "fig = sm.graphics.tsa.plot_acf(ts.dropna(),lags=len(ts.dropna())-1)\n",
    "fig.set_size_inches(12, 4)"
   ]
  },
  {
   "cell_type": "markdown",
   "id": "65858929",
   "metadata": {},
   "source": [
    "## 4.3 PACF (check stationarity)"
   ]
  },
  {
   "cell_type": "code",
   "execution_count": 166,
   "id": "5dafcea2",
   "metadata": {},
   "outputs": [
    {
     "data": {
      "image/png": "[encoded data removed]",
      "text/plain": [
       "<Figure size 864x288 with 1 Axes>"
      ]
     },
     "metadata": {
      "needs_background": "light"
     },
     "output_type": "display_data"
    }
   ],
   "source": [
    "fig_pacf = plot_pacf(ts.dropna(),lags=len(ts.dropna())/2-1,method=\"ywm\",alpha=0.1)\n",
    "# fig = sm.graphics.tsa.plot_pacf(ts.dropna())\n",
    "fig_pacf.set_size_inches(12,4)"
   ]
  },
  {
   "cell_type": "markdown",
   "id": "6a93c612",
   "metadata": {},
   "source": [
    "## 4.4 ADF\n",
    "In general, a p-value of less than 0.05 means you can reject the null hypothesis that there is a unit root.\n",
    "The p-value is obtained is greater than significance level of 0.05 and the ADF statistic is higher than any of the critical values. Clearly, there is no reason to reject the null hypothesis. So, the time series is in fact non-stationary."
   ]
  },
  {
   "cell_type": "code",
   "execution_count": 168,
   "id": "717aaefd",
   "metadata": {},
   "outputs": [
    {
     "data": {
      "text/html": [
       "<div>\n",
       "<style scoped>\n",
       "    .dataframe tbody tr th:only-of-type {\n",
       "        vertical-align: middle;\n",
       "    }\n",
       "\n",
       "    .dataframe tbody tr th {\n",
       "        vertical-align: top;\n",
       "    }\n",
       "\n",
       "    .dataframe thead th {\n",
       "        text-align: right;\n",
       "    }\n",
       "</style>\n",
       "<table border=\"1\" class=\"dataframe\">\n",
       "  <thead>\n",
       "    <tr style=\"text-align: right;\">\n",
       "      <th></th>\n",
       "      <th>value</th>\n",
       "    </tr>\n",
       "  </thead>\n",
       "  <tbody>\n",
       "    <tr>\n",
       "      <th>Test Statistic</th>\n",
       "      <td>2.151762</td>\n",
       "    </tr>\n",
       "    <tr>\n",
       "      <th>p-value</th>\n",
       "      <td>0.99884</td>\n",
       "    </tr>\n",
       "    <tr>\n",
       "      <th>Lags Used</th>\n",
       "      <td>9</td>\n",
       "    </tr>\n",
       "    <tr>\n",
       "      <th>N O B</th>\n",
       "      <td>30</td>\n",
       "    </tr>\n",
       "    <tr>\n",
       "      <th>Critical Value(1%)</th>\n",
       "      <td>-3.66992</td>\n",
       "    </tr>\n",
       "    <tr>\n",
       "      <th>Critical Value(5%)</th>\n",
       "      <td>-2.964071</td>\n",
       "    </tr>\n",
       "    <tr>\n",
       "      <th>Critical Value(10%)</th>\n",
       "      <td>-2.621171</td>\n",
       "    </tr>\n",
       "  </tbody>\n",
       "</table>\n",
       "</div>"
      ],
      "text/plain": [
       "                                value\n",
       "Test Statistic         2.151762\n",
       "p-value                       0.99884\n",
       "Lags Used                           9\n",
       "N O B        30\n",
       "Critical Value(1%)           -3.66992\n",
       "Critical Value(5%)          -2.964071\n",
       "Critical Value(10%)         -2.621171"
      ]
     },
     "execution_count": 168,
     "metadata": {},
     "output_type": "execute_result"
    }
   ],
   "source": [
    "#检测平稳性\n",
    "import statsmodels as sm\n",
    "\n",
    "def getAdf(ts):\n",
    "    temp = np.array(ts)\n",
    "    adf = sm.tsa.stattools.adfuller(temp)\n",
    "    return adf;\n",
    "def printAdf(t):\n",
    "    output=pd.DataFrame(index=['Test Statistic', \"p-value\", \"Lags Used\", \"N O B\",\"Critical Value(1%)\",\"Critical Value(5%)\",\"Critical Value(10%)\"],columns=['value'])\n",
    "    output['value']['Test Statistic'] = t[0]        #t值\n",
    "    output['value']['p-value'] = t[1]                     #p值\n",
    "    output['value']['Lags Used'] = t[2]                   #阶数\n",
    "    output['value']['N O B'] = t[3]\n",
    "    output['value']['Critical Value(1%)'] = t[4]['1%']\n",
    "    output['value']['Critical Value(5%)'] = t[4]['5%']\n",
    "    output['value']['Critical Value(10%)'] = t[4]['10%']\n",
    "    return output\n",
    "t = getAdf(ts.dropna())  # ADF检验\n",
    "# output=pd.DataFrame(index=['Test Statistic', \"p-value\", \"Lags Used\", \"N O B\",\"Critical Value(1%)\",\"Critical Value(5%)\",\"Critical Value(10%)\"],columns=['value'])\n",
    "# output['value']['Test Statistic'] = t[0]        #t值\n",
    "# output['value']['p-value'] = t[1]                     #p值\n",
    "# output['value']['Lags Used'] = t[2]                   #阶数\n",
    "# output['value']['N O B'] = t[3]\n",
    "# output['value']['Critical Value(1%)'] = t[4]['1%']\n",
    "# output['value']['Critical Value(5%)'] = t[4]['5%']\n",
    "# output['value']['Critical Value(10%)'] = t[4]['10%']\n",
    "# output\n",
    "t222 = printAdf(t)\n",
    "# output\n",
    "t222"
   ]
  },
  {
   "cell_type": "markdown",
   "id": "016dc89d",
   "metadata": {},
   "source": [
    "# 5.Smoothing\n",
    "Stationarity is a prerequisite for time series analysis, so we need to process the non-stationary series to convert it into a stationary series."
   ]
  },
  {
   "cell_type": "code",
   "execution_count": 169,
   "id": "63820514",
   "metadata": {},
   "outputs": [],
   "source": [
    "import numpy as np\n",
    "import pandas as pd\n",
    "from datetime import datetime\n",
    "import matplotlib.pylab as plt\n",
    "from matplotlib.pylab import rcParams\n",
    "from statsmodels.tsa.stattools import adfuller\n",
    "from statsmodels.graphics.tsaplots import plot_acf, plot_pacf\n",
    "from pylab import *\n",
    "\n",
    "plt.rcParams['font.sans-serif']=['SimHei']\n",
    "rcParams['figure.figsize'] = 10, 5\n",
    "\n",
    "# 移动平均图\n",
    "def draw_trend(timeSeries, size):\n",
    "    f = plt.figure(facecolor='white')\n",
    "    # 对size个数据进行移动平均\n",
    "    rol_mean = timeSeries.rolling(window=size).mean()\n",
    "    # 对size个数据进行加权移动平均\n",
    "    rol_weighted_mean = timeSeries.ewm(span=size).mean()\n",
    "\n",
    "    timeSeries.plot(color='blue', label='Original')\n",
    "    rol_mean.plot(color='red', label='Rolling Mean')\n",
    "    rol_weighted_mean.plot(color='black', label='Weighted Rolling Mean')\n",
    "    plt.legend(loc='best')\n",
    "    plt.title('Rolling Mean')\n",
    "    plt.show()\n",
    "\n",
    "def draw_ts(timeSeries):\n",
    "    f = plt.figure(facecolor='white')\n",
    "    plt.plot(timeSeries,color='blue')\n",
    "    plt.title('Price')\n",
    "    plt.show()\n",
    "\n",
    "\n",
    "def testStationarity(timeSeries):\n",
    "    dftest = adfuller(timeSeries)\n",
    "    # 对上述函数求得的值进行语义描述\n",
    "    dfoutput = pd.Series(dftest[0:4], index=['Test Statistic','p-value','#Lags Used','N O B'])\n",
    "    for key,value in dftest[4].items():\n",
    "        dfoutput['Critical Value (%s)'%key] = value\n",
    "    return dfoutput\n",
    "\n",
    "# 自相关和偏相关图，默认阶数为31阶\n",
    "def draw_acf_pacf(ts, lags=15):\n",
    "    f = plt.figure(facecolor='white')\n",
    "    ax1 = f.add_subplot(211)\n",
    "    plot_acf(ts, lags=15, ax=ax1)\n",
    "    ax2 = f.add_subplot(212)\n",
    "    plot_pacf(ts, lags=15, ax=ax2)\n",
    "    plt.show()\n"
   ]
  },
  {
   "cell_type": "markdown",
   "id": "39eff541",
   "metadata": {},
   "source": [
    "## 5.1 Logarithmic transformation"
   ]
  },
  {
   "cell_type": "code",
   "execution_count": 171,
   "id": "fca39591",
   "metadata": {
    "scrolled": true
   },
   "outputs": [
    {
     "data": {
      "image/png": "[encoded data removed]",
      "text/plain": [
       "<Figure size 720x360 with 1 Axes>"
      ]
     },
     "metadata": {
      "needs_background": "light"
     },
     "output_type": "display_data"
    }
   ],
   "source": [
    "ts_log = np.log(ts.dropna())\n",
    "# draw_ts(ts_log)\n",
    "plt.plot(ts_log,color='blue')\n",
    "plt.show()"
   ]
  },
  {
   "cell_type": "code",
   "execution_count": 172,
   "id": "210e42b1",
   "metadata": {},
   "outputs": [
    {
     "data": {
      "text/html": [
       "<div>\n",
       "<style scoped>\n",
       "    .dataframe tbody tr th:only-of-type {\n",
       "        vertical-align: middle;\n",
       "    }\n",
       "\n",
       "    .dataframe tbody tr th {\n",
       "        vertical-align: top;\n",
       "    }\n",
       "\n",
       "    .dataframe thead th {\n",
       "        text-align: right;\n",
       "    }\n",
       "</style>\n",
       "<table border=\"1\" class=\"dataframe\">\n",
       "  <thead>\n",
       "    <tr style=\"text-align: right;\">\n",
       "      <th></th>\n",
       "      <th>value</th>\n",
       "    </tr>\n",
       "  </thead>\n",
       "  <tbody>\n",
       "    <tr>\n",
       "      <th>Test Statistic</th>\n",
       "      <td>2.151762</td>\n",
       "    </tr>\n",
       "    <tr>\n",
       "      <th>p-value</th>\n",
       "      <td>0.99884</td>\n",
       "    </tr>\n",
       "    <tr>\n",
       "      <th>Lags Used</th>\n",
       "      <td>9</td>\n",
       "    </tr>\n",
       "    <tr>\n",
       "      <th>N O B</th>\n",
       "      <td>30</td>\n",
       "    </tr>\n",
       "    <tr>\n",
       "      <th>Critical Value(1%)</th>\n",
       "      <td>-3.66992</td>\n",
       "    </tr>\n",
       "    <tr>\n",
       "      <th>Critical Value(5%)</th>\n",
       "      <td>-2.964071</td>\n",
       "    </tr>\n",
       "    <tr>\n",
       "      <th>Critical Value(10%)</th>\n",
       "      <td>-2.621171</td>\n",
       "    </tr>\n",
       "  </tbody>\n",
       "</table>\n",
       "</div>"
      ],
      "text/plain": [
       "                                value\n",
       "Test Statistic         2.151762\n",
       "p-value                       0.99884\n",
       "Lags Used                           9\n",
       "N O B        30\n",
       "Critical Value(1%)           -3.66992\n",
       "Critical Value(5%)          -2.964071\n",
       "Critical Value(10%)         -2.621171"
      ]
     },
     "execution_count": 172,
     "metadata": {},
     "output_type": "execute_result"
    }
   ],
   "source": [
    "#P-value\n",
    "\n",
    "# temp = np.array(ts_log)\n",
    "temp = np.array(ts.dropna())\n",
    "t = getAdf(temp)\n",
    "log_Adf=printAdf(t)\n",
    "log_Adf"
   ]
  },
  {
   "cell_type": "code",
   "execution_count": null,
   "id": "2453b3d6",
   "metadata": {},
   "outputs": [],
   "source": []
  },
  {
   "cell_type": "code",
   "execution_count": 473,
   "id": "f358a3a3",
   "metadata": {},
   "outputs": [],
   "source": [
    "## 5.2 平滑法 (12期间，剔除年周期性因素)"
   ]
  },
  {
   "cell_type": "code",
   "execution_count": 474,
   "id": "9785cccb",
   "metadata": {},
   "outputs": [],
   "source": [
    "# draw_trend(ts_log, 2)"
   ]
  },
  {
   "cell_type": "markdown",
   "id": "117169dd",
   "metadata": {},
   "source": [
    "## 5.3 difference 1"
   ]
  },
  {
   "cell_type": "code",
   "execution_count": 173,
   "id": "6bc1de50",
   "metadata": {},
   "outputs": [
    {
     "data": {
      "text/plain": [
       "<AxesSubplot:xlabel='YEAR'>"
      ]
     },
     "execution_count": 173,
     "metadata": {},
     "output_type": "execute_result"
    },
    {
     "data": {
      "image/png": "[encoded data removed]",
      "text/plain": [
       "<Figure size 720x360 with 1 Axes>"
      ]
     },
     "metadata": {
      "needs_background": "light"
     },
     "output_type": "display_data"
    }
   ],
   "source": [
    "#difference\n",
    "rol_mean = ts_log.rolling(window=3).mean()\n",
    "rol_mean.dropna(inplace=True)\n",
    "ts_diff_1 = rol_mean.diff(1)\n",
    "ts_diff_1.dropna(inplace=True)\n",
    "testStationarity(ts_diff_1)\n",
    "ts_diff_1.plot()"
   ]
  },
  {
   "cell_type": "markdown",
   "id": "837d9c93",
   "metadata": {},
   "source": [
    "## 5.4 difference 2"
   ]
  },
  {
   "cell_type": "code",
   "execution_count": 43,
   "id": "36b67178",
   "metadata": {
    "scrolled": false
   },
   "outputs": [],
   "source": [
    "# ts_diff_2 = ts_diff_1.diff(1)\n",
    "# ts_diff_2.dropna(inplace=True)\n",
    "\n",
    "# testStationarity(ts_diff_2)"
   ]
  },
  {
   "cell_type": "code",
   "execution_count": 42,
   "id": "e090188e",
   "metadata": {
    "scrolled": true
   },
   "outputs": [],
   "source": [
    "# draw_acf_pacf(ts_diff_2, lags=1)"
   ]
  },
  {
   "cell_type": "code",
   "execution_count": 174,
   "id": "eca09239",
   "metadata": {},
   "outputs": [
    {
     "data": {
      "text/html": [
       "<div>\n",
       "<style scoped>\n",
       "    .dataframe tbody tr th:only-of-type {\n",
       "        vertical-align: middle;\n",
       "    }\n",
       "\n",
       "    .dataframe tbody tr th {\n",
       "        vertical-align: top;\n",
       "    }\n",
       "\n",
       "    .dataframe thead th {\n",
       "        text-align: right;\n",
       "    }\n",
       "</style>\n",
       "<table border=\"1\" class=\"dataframe\">\n",
       "  <thead>\n",
       "    <tr style=\"text-align: right;\">\n",
       "      <th></th>\n",
       "      <th>value</th>\n",
       "    </tr>\n",
       "  </thead>\n",
       "  <tbody>\n",
       "    <tr>\n",
       "      <th>Test Statistic</th>\n",
       "      <td>-2.828117</td>\n",
       "    </tr>\n",
       "    <tr>\n",
       "      <th>p-value</th>\n",
       "      <td>0.054368</td>\n",
       "    </tr>\n",
       "    <tr>\n",
       "      <th>Lags Used</th>\n",
       "      <td>10</td>\n",
       "    </tr>\n",
       "    <tr>\n",
       "      <th>N O B</th>\n",
       "      <td>26</td>\n",
       "    </tr>\n",
       "    <tr>\n",
       "      <th>Critical Value(1%)</th>\n",
       "      <td>-3.711212</td>\n",
       "    </tr>\n",
       "    <tr>\n",
       "      <th>Critical Value(5%)</th>\n",
       "      <td>-2.981247</td>\n",
       "    </tr>\n",
       "    <tr>\n",
       "      <th>Critical Value(10%)</th>\n",
       "      <td>-2.630095</td>\n",
       "    </tr>\n",
       "  </tbody>\n",
       "</table>\n",
       "</div>"
      ],
      "text/plain": [
       "                                value\n",
       "Test Statistic        -2.828117\n",
       "p-value                      0.054368\n",
       "Lags Used                          10\n",
       "N O B        26\n",
       "Critical Value(1%)          -3.711212\n",
       "Critical Value(5%)          -2.981247\n",
       "Critical Value(10%)         -2.630095"
      ]
     },
     "execution_count": 174,
     "metadata": {},
     "output_type": "execute_result"
    }
   ],
   "source": [
    "# temp = np.array(ts_log)\n",
    "temp = np.array(ts_diff_1)\n",
    "t = getAdf(temp)\n",
    "log_Adf=printAdf(t)\n",
    "log_Adf"
   ]
  },
  {
   "cell_type": "markdown",
   "id": "8dca6843",
   "metadata": {},
   "source": [
    "# White noise detection"
   ]
  },
  {
   "cell_type": "code",
   "execution_count": 175,
   "id": "016f6c2f",
   "metadata": {},
   "outputs": [
    {
     "data": {
      "text/html": [
       "<div>\n",
       "<style scoped>\n",
       "    .dataframe tbody tr th:only-of-type {\n",
       "        vertical-align: middle;\n",
       "    }\n",
       "\n",
       "    .dataframe tbody tr th {\n",
       "        vertical-align: top;\n",
       "    }\n",
       "\n",
       "    .dataframe thead th {\n",
       "        text-align: right;\n",
       "    }\n",
       "</style>\n",
       "<table border=\"1\" class=\"dataframe\">\n",
       "  <thead>\n",
       "    <tr style=\"text-align: right;\">\n",
       "      <th></th>\n",
       "      <th>lb_stat</th>\n",
       "      <th>lb_pvalue</th>\n",
       "    </tr>\n",
       "  </thead>\n",
       "  <tbody>\n",
       "    <tr>\n",
       "      <th>1</th>\n",
       "      <td>28.841520</td>\n",
       "      <td>7.854905e-08</td>\n",
       "    </tr>\n",
       "    <tr>\n",
       "      <th>2</th>\n",
       "      <td>44.008087</td>\n",
       "      <td>2.778212e-10</td>\n",
       "    </tr>\n",
       "    <tr>\n",
       "      <th>3</th>\n",
       "      <td>48.992635</td>\n",
       "      <td>1.309175e-10</td>\n",
       "    </tr>\n",
       "    <tr>\n",
       "      <th>4</th>\n",
       "      <td>50.326997</td>\n",
       "      <td>3.085512e-10</td>\n",
       "    </tr>\n",
       "  </tbody>\n",
       "</table>\n",
       "</div>"
      ],
      "text/plain": [
       "     lb_stat     lb_pvalue\n",
       "1  28.841520  7.854905e-08\n",
       "2  44.008087  2.778212e-10\n",
       "3  48.992635  1.309175e-10\n",
       "4  50.326997  3.085512e-10"
      ]
     },
     "execution_count": 175,
     "metadata": {},
     "output_type": "execute_result"
    }
   ],
   "source": [
    "from statsmodels.stats.diagnostic import acorr_ljungbox\n",
    "acorr_ljungbox(ts_diff_1,lags=range(1,5),return_df='ture')\n",
    "# acorr_ljungbox(ts_diff_1,lags=[1])[1][0]"
   ]
  },
  {
   "cell_type": "code",
   "execution_count": null,
   "id": "9ae4d19c",
   "metadata": {},
   "outputs": [],
   "source": [
    "#确定参数"
   ]
  },
  {
   "cell_type": "code",
   "execution_count": 212,
   "id": "f478a3bd",
   "metadata": {
    "scrolled": true
   },
   "outputs": [],
   "source": [
    "# ARMA(ts_diff_1, order=(1, 1)).fit().bic"
   ]
  },
  {
   "cell_type": "code",
   "execution_count": null,
   "id": "a59fba82",
   "metadata": {},
   "outputs": [],
   "source": []
  },
  {
   "cell_type": "code",
   "execution_count": null,
   "id": "b946704a",
   "metadata": {},
   "outputs": [],
   "source": []
  },
  {
   "cell_type": "code",
   "execution_count": null,
   "id": "6cbad331",
   "metadata": {},
   "outputs": [],
   "source": [
    "import matplotlib.pyplot as plt\n",
    "import pandas as pd\n",
    "import statsmodels.api as sm\n",
    "from statsmodels.tsa.arima_model import ARIMA\n",
    "from statsmodels.tsa.seasonal import seasonal_decompose\n",
    "from statsmodels.tsa.stattools import adfuller as ADF\n",
    "\n",
    "def ARIMA_Model(timeseries, order):\n",
    "    model = ARIMA(timeseries, order=order)\n",
    "    return model.fit(disp=0)\n",
    "\n",
    "\n",
    "dateparse = lambda dates: pd.datetime.strptime(dates, '%Y-%m-%d')\n",
    "purchase_seq_train = pd.read_csv('./purchase_seq_train.csv', parse_dates=['report_date'],\n",
    "                                 index_col='report_date', date_parser=dateparse)\n",
    "\n",
    "purchase_seq_test = pd.read_csv('./purchase_seq_test.csv', parse_dates=['report_date'],\n",
    "                                index_col='report_date', date_parser=dateparse)\n",
    "\n",
    "\n",
    "decomposition = seasonal_decompose(purchase_seq_train)\n",
    "trend = decomposition.trend\n",
    "seasonal = decomposition.seasonal\n",
    "residual = decomposition.resid\n",
    "\n",
    "trend = trend.fillna(0)\n",
    "seasonal = seasonal.fillna(0)\n",
    "residual = residual.fillna(0)\n",
    "\n",
    "# 趋势序列模型训练\n",
    "trend_model = ARIMA_Model(trend, (1, 0, 0))\n",
    "trend_fit_seq = trend_model.fittedvalues\n",
    "trend_predict_seq = trend_model.predict(start='2014-08-01', end='2014-08-10', dynamic=True)\n",
    "\n",
    "# 残差序列模型训练\n",
    "residual_model = ARIMA_Model(residual, (2, 0, 1))\n",
    "residual_fit_seq = residual_model.fittedvalues\n",
    "residual_predict_seq = residual_model.predict(start='2014-08-01', end='2014-08-10', dynamic=True)\n",
    "\n",
    "# 拟合训练集\n",
    "fit_seq = pd.Series(seasonal['value'], index=seasonal.index)\n",
    "fit_seq = fit_seq.add(trend_fit_seq, fill_value=0)\n",
    "fit_seq = fit_seq.add(residual_fit_seq, fill_value=0)\n",
    "\n",
    "plt.plot(fit_seq, color='red', label='fit_seq')\n",
    "plt.plot(purchase_seq_train, color='blue', label='purchase_seq_train')\n",
    "plt.legend(loc='best')\n",
    "plt.show()\n",
    "\n",
    "# 预测测试集\n",
    "# 这里测试数据的周期性是根据seasonal对象打印的结果，看到里面的数据每7天一个周期，2014-08-01~2014-08-10的数据正好和2014-04-04~2014-04-13的数据一致\n",
    "seasonal_predict_seq = seasonal['2014-04-04':'2014-04-13']\n",
    "\n",
    "predict_dates = pd.Series(\n",
    "    ['2014-08-01', '2014-08-02', '2014-08-03', '2014-08-04', '2014-08-05', '2014-08-06', '2014-08-07', '2014-08-08',\n",
    "     '2014-08-09', '2014-08-10']).apply(lambda dates: pd.datetime.strptime(dates, '%Y-%m-%d'))\n",
    "\n",
    "seasonal_predict_seq.index = predict_dates\n",
    "\n",
    "predict_seq = pd.Series(seasonal_predict_seq['value'], index=seasonal_predict_seq.index)\n",
    "predict_seq = predict_seq.add(trend_predict_seq, fill_value=0)\n",
    "predict_seq = predict_seq.add(residual_predict_seq, fill_value=0)\n",
    "\n",
    "plt.plot(predict_seq, color='red', label='predict_seq')\n",
    "plt.plot(purchase_seq_test, color='blue', label='purchase_seq_test')\n",
    "plt.legend(loc='best')\n",
    "plt.show()"
   ]
  },
  {
   "cell_type": "code",
   "execution_count": null,
   "id": "62aefc5d",
   "metadata": {},
   "outputs": [],
   "source": []
  },
  {
   "cell_type": "code",
   "execution_count": null,
   "id": "5805f1ca",
   "metadata": {},
   "outputs": [],
   "source": []
  },
  {
   "cell_type": "code",
   "execution_count": null,
   "id": "097cc723",
   "metadata": {},
   "outputs": [],
   "source": []
  },
  {
   "cell_type": "code",
   "execution_count": null,
   "id": "92781962",
   "metadata": {},
   "outputs": [],
   "source": []
  },
  {
   "cell_type": "code",
   "execution_count": null,
   "id": "9035dfab",
   "metadata": {},
   "outputs": [],
   "source": []
  },
  {
   "cell_type": "markdown",
   "id": "58353964",
   "metadata": {},
   "source": [
    "# 6. 模型识别"
   ]
  },
  {
   "cell_type": "code",
   "execution_count": 177,
   "id": "1b9456af",
   "metadata": {},
   "outputs": [
    {
     "name": "stderr",
     "output_type": "stream",
     "text": [
      "/Users/lwj/opt/anaconda3/lib/python3.8/site-packages/statsmodels/tsa/arima_model.py:472: FutureWarning: \n",
      "statsmodels.tsa.arima_model.ARMA and statsmodels.tsa.arima_model.ARIMA have\n",
      "been deprecated in favor of statsmodels.tsa.arima.model.ARIMA (note the .\n",
      "between arima and model) and\n",
      "statsmodels.tsa.SARIMAX. These will be removed after the 0.12 release.\n",
      "\n",
      "statsmodels.tsa.arima.model.ARIMA makes use of the statespace framework and\n",
      "is both well tested and maintained.\n",
      "\n",
      "To silence this warning and continue using ARMA and ARIMA until they are\n",
      "removed, use:\n",
      "\n",
      "import warnings\n",
      "warnings.filterwarnings('ignore', 'statsmodels.tsa.arima_model.ARMA',\n",
      "                        FutureWarning)\n",
      "warnings.filterwarnings('ignore', 'statsmodels.tsa.arima_model.ARIMA',\n",
      "                        FutureWarning)\n",
      "\n",
      "  warnings.warn(ARIMA_DEPRECATION_WARN, FutureWarning)\n",
      "/Users/lwj/opt/anaconda3/lib/python3.8/site-packages/statsmodels/tsa/base/tsa_model.py:524: ValueWarning: No frequency information was provided, so inferred frequency AS-JAN will be used.\n",
      "  warnings.warn('No frequency information was'\n"
     ]
    },
    {
     "data": {
      "text/plain": [
       "(array([0.0130878 , 0.01801658, 0.02205214, 0.02535637, 0.02806179]),\n",
       " array([0.03743267, 0.05620779, 0.06586307, 0.07161068, 0.07521835]),\n",
       " array([[-0.06027888,  0.08645448],\n",
       "        [-0.09214866,  0.12818181],\n",
       "        [-0.10703709,  0.15114138],\n",
       "        [-0.11499798,  0.16571073],\n",
       "        [-0.11936345,  0.17548704]]))"
      ]
     },
     "execution_count": 177,
     "metadata": {},
     "output_type": "execute_result"
    }
   ],
   "source": [
    "from statsmodels.tsa.arima_model import ARMA\n",
    "model = ARMA(ts_diff_1, order=(1, 1)) \n",
    "\n",
    "result_arma = model.fit( disp=-1, method='css')\n",
    "# a = result_arma.bic\n",
    "# a\n",
    "result_arma.forecast(5)"
   ]
  },
  {
   "cell_type": "code",
   "execution_count": null,
   "id": "2b2262e7",
   "metadata": {},
   "outputs": [],
   "source": []
  },
  {
   "cell_type": "code",
   "execution_count": 178,
   "id": "9cfa53df",
   "metadata": {},
   "outputs": [],
   "source": [
    "predict_ts = result_arma.predict()\n",
    "# 一阶差分还原\n",
    "diff_shift_ts = ts_diff_1[city].shift(1)\n",
    "diff_recover_1 = predict_ts.add(diff_shift_ts)\n",
    "# 再次一阶差分还原\n",
    "rol_shift_ts = rol_mean[city].shift(1)\n",
    "diff_recover = diff_recover_1.add(rol_shift_ts)\n",
    "# 对数还原\n",
    "log_recover = np.exp(diff_recover)\n",
    "log_recover.dropna(inplace=True)\n",
    "\n",
    "# print(log_recover)\n"
   ]
  },
  {
   "cell_type": "code",
   "execution_count": 179,
   "id": "66d8a293",
   "metadata": {},
   "outputs": [
    {
     "data": {
      "text/plain": [
       "<matplotlib.legend.Legend at 0x7f81bc19d100>"
      ]
     },
     "execution_count": 179,
     "metadata": {},
     "output_type": "execute_result"
    },
    {
     "data": {
      "image/png": "[encoded data removed]",
      "text/plain": [
       "<Figure size 720x360 with 1 Axes>"
      ]
     },
     "metadata": {
      "needs_background": "light"
     },
     "output_type": "display_data"
    }
   ],
   "source": [
    "# ts = ts[log_recover.index]  # 过滤没有预测的记录\n",
    "# plt.figure(facecolor='white')\n",
    "# log_recover.plot(color='blue', label='Predict')\n",
    "# ts.plot(color='red', label='Original')\n",
    "# plt.legend(loc='best')\n",
    "# plt.title('RMSE: %.4f'% np.sqrt(sum((log_recover.values-ts.values)**2)/ts.size))\n",
    "# plt.show()\n",
    "\n",
    "plt.title('RMSE: %.4f'% np.sqrt(sum((log_recover.values-ts.values)**2)/ts.size))\n",
    "plt.plot(ts, color='red', label='Original')\n",
    "plt.plot(log_recover,  color='blue', label='Predict')\n",
    "plt.legend()"
   ]
  },
  {
   "cell_type": "code",
   "execution_count": null,
   "id": "c9ad0d0e",
   "metadata": {},
   "outputs": [],
   "source": []
  },
  {
   "cell_type": "code",
   "execution_count": null,
   "id": "4d7e3667",
   "metadata": {},
   "outputs": [],
   "source": []
  },
  {
   "cell_type": "code",
   "execution_count": 22,
   "id": "2a0661dd",
   "metadata": {},
   "outputs": [
    {
     "ename": "TypeError",
     "evalue": "float() argument must be a string or a number, not 'Timestamp'",
     "output_type": "error",
     "traceback": [
      "\u001b[0;31m---------------------------------------------------------------------------\u001b[0m",
      "\u001b[0;31mTypeError\u001b[0m                                 Traceback (most recent call last)",
      "\u001b[0;32m<ipython-input-22-cb1930e41ad6>\u001b[0m in \u001b[0;36m<module>\u001b[0;34m\u001b[0m\n\u001b[1;32m     19\u001b[0m \u001b[0;34m\u001b[0m\u001b[0m\n\u001b[1;32m     20\u001b[0m \u001b[0;34m\u001b[0m\u001b[0m\n\u001b[0;32m---> 21\u001b[0;31m \u001b[0mdecomposition\u001b[0m \u001b[0;34m=\u001b[0m \u001b[0mseasonal_decompose\u001b[0m\u001b[0;34m(\u001b[0m\u001b[0mpurchase_seq_train\u001b[0m\u001b[0;34m)\u001b[0m\u001b[0;34m\u001b[0m\u001b[0;34m\u001b[0m\u001b[0m\n\u001b[0m\u001b[1;32m     22\u001b[0m \u001b[0mtrend\u001b[0m \u001b[0;34m=\u001b[0m \u001b[0mdecomposition\u001b[0m\u001b[0;34m.\u001b[0m\u001b[0mtrend\u001b[0m\u001b[0;34m\u001b[0m\u001b[0;34m\u001b[0m\u001b[0m\n\u001b[1;32m     23\u001b[0m \u001b[0mseasonal\u001b[0m \u001b[0;34m=\u001b[0m \u001b[0mdecomposition\u001b[0m\u001b[0;34m.\u001b[0m\u001b[0mseasonal\u001b[0m\u001b[0;34m\u001b[0m\u001b[0;34m\u001b[0m\u001b[0m\n",
      "\u001b[0;32m~/opt/anaconda3/lib/python3.8/site-packages/pandas/util/_decorators.py\u001b[0m in \u001b[0;36mwrapper\u001b[0;34m(*args, **kwargs)\u001b[0m\n\u001b[1;32m    197\u001b[0m                 \u001b[0;32melse\u001b[0m\u001b[0;34m:\u001b[0m\u001b[0;34m\u001b[0m\u001b[0;34m\u001b[0m\u001b[0m\n\u001b[1;32m    198\u001b[0m                     \u001b[0mkwargs\u001b[0m\u001b[0;34m[\u001b[0m\u001b[0mnew_arg_name\u001b[0m\u001b[0;34m]\u001b[0m \u001b[0;34m=\u001b[0m \u001b[0mnew_arg_value\u001b[0m\u001b[0;34m\u001b[0m\u001b[0;34m\u001b[0m\u001b[0m\n\u001b[0;32m--> 199\u001b[0;31m             \u001b[0;32mreturn\u001b[0m \u001b[0mfunc\u001b[0m\u001b[0;34m(\u001b[0m\u001b[0;34m*\u001b[0m\u001b[0margs\u001b[0m\u001b[0;34m,\u001b[0m \u001b[0;34m**\u001b[0m\u001b[0mkwargs\u001b[0m\u001b[0;34m)\u001b[0m\u001b[0;34m\u001b[0m\u001b[0;34m\u001b[0m\u001b[0m\n\u001b[0m\u001b[1;32m    200\u001b[0m \u001b[0;34m\u001b[0m\u001b[0m\n\u001b[1;32m    201\u001b[0m         \u001b[0;32mreturn\u001b[0m \u001b[0mcast\u001b[0m\u001b[0;34m(\u001b[0m\u001b[0mF\u001b[0m\u001b[0;34m,\u001b[0m \u001b[0mwrapper\u001b[0m\u001b[0;34m)\u001b[0m\u001b[0;34m\u001b[0m\u001b[0;34m\u001b[0m\u001b[0m\n",
      "\u001b[0;32m~/opt/anaconda3/lib/python3.8/site-packages/statsmodels/tsa/seasonal.py\u001b[0m in \u001b[0;36mseasonal_decompose\u001b[0;34m(x, model, filt, period, two_sided, extrapolate_trend)\u001b[0m\n\u001b[1;32m    126\u001b[0m         \u001b[0mpfreq\u001b[0m \u001b[0;34m=\u001b[0m \u001b[0mgetattr\u001b[0m\u001b[0;34m(\u001b[0m\u001b[0mgetattr\u001b[0m\u001b[0;34m(\u001b[0m\u001b[0mx\u001b[0m\u001b[0;34m,\u001b[0m \u001b[0;34m'index'\u001b[0m\u001b[0;34m,\u001b[0m \u001b[0;32mNone\u001b[0m\u001b[0;34m)\u001b[0m\u001b[0;34m,\u001b[0m \u001b[0;34m'inferred_freq'\u001b[0m\u001b[0;34m,\u001b[0m \u001b[0;32mNone\u001b[0m\u001b[0;34m)\u001b[0m\u001b[0;34m\u001b[0m\u001b[0;34m\u001b[0m\u001b[0m\n\u001b[1;32m    127\u001b[0m \u001b[0;34m\u001b[0m\u001b[0m\n\u001b[0;32m--> 128\u001b[0;31m     \u001b[0mx\u001b[0m \u001b[0;34m=\u001b[0m \u001b[0marray_like\u001b[0m\u001b[0;34m(\u001b[0m\u001b[0mx\u001b[0m\u001b[0;34m,\u001b[0m \u001b[0;34m'x'\u001b[0m\u001b[0;34m,\u001b[0m \u001b[0mmaxdim\u001b[0m\u001b[0;34m=\u001b[0m\u001b[0;36m2\u001b[0m\u001b[0;34m)\u001b[0m\u001b[0;34m\u001b[0m\u001b[0;34m\u001b[0m\u001b[0m\n\u001b[0m\u001b[1;32m    129\u001b[0m     \u001b[0mnobs\u001b[0m \u001b[0;34m=\u001b[0m \u001b[0mlen\u001b[0m\u001b[0;34m(\u001b[0m\u001b[0mx\u001b[0m\u001b[0;34m)\u001b[0m\u001b[0;34m\u001b[0m\u001b[0;34m\u001b[0m\u001b[0m\n\u001b[1;32m    130\u001b[0m \u001b[0;34m\u001b[0m\u001b[0m\n",
      "\u001b[0;32m~/opt/anaconda3/lib/python3.8/site-packages/statsmodels/tools/validation/validation.py\u001b[0m in \u001b[0;36marray_like\u001b[0;34m(obj, name, dtype, ndim, maxdim, shape, order, contiguous, optional)\u001b[0m\n\u001b[1;32m    133\u001b[0m     \u001b[0;32mif\u001b[0m \u001b[0moptional\u001b[0m \u001b[0;32mand\u001b[0m \u001b[0mobj\u001b[0m \u001b[0;32mis\u001b[0m \u001b[0;32mNone\u001b[0m\u001b[0;34m:\u001b[0m\u001b[0;34m\u001b[0m\u001b[0;34m\u001b[0m\u001b[0m\n\u001b[1;32m    134\u001b[0m         \u001b[0;32mreturn\u001b[0m \u001b[0;32mNone\u001b[0m\u001b[0;34m\u001b[0m\u001b[0;34m\u001b[0m\u001b[0m\n\u001b[0;32m--> 135\u001b[0;31m     \u001b[0marr\u001b[0m \u001b[0;34m=\u001b[0m \u001b[0mnp\u001b[0m\u001b[0;34m.\u001b[0m\u001b[0masarray\u001b[0m\u001b[0;34m(\u001b[0m\u001b[0mobj\u001b[0m\u001b[0;34m,\u001b[0m \u001b[0mdtype\u001b[0m\u001b[0;34m=\u001b[0m\u001b[0mdtype\u001b[0m\u001b[0;34m,\u001b[0m \u001b[0morder\u001b[0m\u001b[0;34m=\u001b[0m\u001b[0morder\u001b[0m\u001b[0;34m)\u001b[0m\u001b[0;34m\u001b[0m\u001b[0;34m\u001b[0m\u001b[0m\n\u001b[0m\u001b[1;32m    136\u001b[0m     \u001b[0;32mif\u001b[0m \u001b[0mmaxdim\u001b[0m \u001b[0;32mis\u001b[0m \u001b[0;32mnot\u001b[0m \u001b[0;32mNone\u001b[0m\u001b[0;34m:\u001b[0m\u001b[0;34m\u001b[0m\u001b[0;34m\u001b[0m\u001b[0m\n\u001b[1;32m    137\u001b[0m         \u001b[0;32mif\u001b[0m \u001b[0marr\u001b[0m\u001b[0;34m.\u001b[0m\u001b[0mndim\u001b[0m \u001b[0;34m>\u001b[0m \u001b[0mmaxdim\u001b[0m\u001b[0;34m:\u001b[0m\u001b[0;34m\u001b[0m\u001b[0;34m\u001b[0m\u001b[0m\n",
      "\u001b[0;32m~/opt/anaconda3/lib/python3.8/site-packages/numpy/core/_asarray.py\u001b[0m in \u001b[0;36masarray\u001b[0;34m(a, dtype, order, like)\u001b[0m\n\u001b[1;32m    100\u001b[0m         \u001b[0;32mreturn\u001b[0m \u001b[0m_asarray_with_like\u001b[0m\u001b[0;34m(\u001b[0m\u001b[0ma\u001b[0m\u001b[0;34m,\u001b[0m \u001b[0mdtype\u001b[0m\u001b[0;34m=\u001b[0m\u001b[0mdtype\u001b[0m\u001b[0;34m,\u001b[0m \u001b[0morder\u001b[0m\u001b[0;34m=\u001b[0m\u001b[0morder\u001b[0m\u001b[0;34m,\u001b[0m \u001b[0mlike\u001b[0m\u001b[0;34m=\u001b[0m\u001b[0mlike\u001b[0m\u001b[0;34m)\u001b[0m\u001b[0;34m\u001b[0m\u001b[0;34m\u001b[0m\u001b[0m\n\u001b[1;32m    101\u001b[0m \u001b[0;34m\u001b[0m\u001b[0m\n\u001b[0;32m--> 102\u001b[0;31m     \u001b[0;32mreturn\u001b[0m \u001b[0marray\u001b[0m\u001b[0;34m(\u001b[0m\u001b[0ma\u001b[0m\u001b[0;34m,\u001b[0m \u001b[0mdtype\u001b[0m\u001b[0;34m,\u001b[0m \u001b[0mcopy\u001b[0m\u001b[0;34m=\u001b[0m\u001b[0;32mFalse\u001b[0m\u001b[0;34m,\u001b[0m \u001b[0morder\u001b[0m\u001b[0;34m=\u001b[0m\u001b[0morder\u001b[0m\u001b[0;34m)\u001b[0m\u001b[0;34m\u001b[0m\u001b[0;34m\u001b[0m\u001b[0m\n\u001b[0m\u001b[1;32m    103\u001b[0m \u001b[0;34m\u001b[0m\u001b[0m\n\u001b[1;32m    104\u001b[0m \u001b[0;34m\u001b[0m\u001b[0m\n",
      "\u001b[0;32m~/opt/anaconda3/lib/python3.8/site-packages/pandas/core/generic.py\u001b[0m in \u001b[0;36m__array__\u001b[0;34m(self, dtype)\u001b[0m\n\u001b[1;32m   1897\u001b[0m \u001b[0;34m\u001b[0m\u001b[0m\n\u001b[1;32m   1898\u001b[0m     \u001b[0;32mdef\u001b[0m \u001b[0m__array__\u001b[0m\u001b[0;34m(\u001b[0m\u001b[0mself\u001b[0m\u001b[0;34m,\u001b[0m \u001b[0mdtype\u001b[0m\u001b[0;34m=\u001b[0m\u001b[0;32mNone\u001b[0m\u001b[0;34m)\u001b[0m \u001b[0;34m->\u001b[0m \u001b[0mnp\u001b[0m\u001b[0;34m.\u001b[0m\u001b[0mndarray\u001b[0m\u001b[0;34m:\u001b[0m\u001b[0;34m\u001b[0m\u001b[0;34m\u001b[0m\u001b[0m\n\u001b[0;32m-> 1899\u001b[0;31m         \u001b[0;32mreturn\u001b[0m \u001b[0mnp\u001b[0m\u001b[0;34m.\u001b[0m\u001b[0masarray\u001b[0m\u001b[0;34m(\u001b[0m\u001b[0mself\u001b[0m\u001b[0;34m.\u001b[0m\u001b[0m_values\u001b[0m\u001b[0;34m,\u001b[0m \u001b[0mdtype\u001b[0m\u001b[0;34m=\u001b[0m\u001b[0mdtype\u001b[0m\u001b[0;34m)\u001b[0m\u001b[0;34m\u001b[0m\u001b[0;34m\u001b[0m\u001b[0m\n\u001b[0m\u001b[1;32m   1900\u001b[0m \u001b[0;34m\u001b[0m\u001b[0m\n\u001b[1;32m   1901\u001b[0m     def __array_wrap__(\n",
      "\u001b[0;32m~/opt/anaconda3/lib/python3.8/site-packages/numpy/core/_asarray.py\u001b[0m in \u001b[0;36masarray\u001b[0;34m(a, dtype, order, like)\u001b[0m\n\u001b[1;32m    100\u001b[0m         \u001b[0;32mreturn\u001b[0m \u001b[0m_asarray_with_like\u001b[0m\u001b[0;34m(\u001b[0m\u001b[0ma\u001b[0m\u001b[0;34m,\u001b[0m \u001b[0mdtype\u001b[0m\u001b[0;34m=\u001b[0m\u001b[0mdtype\u001b[0m\u001b[0;34m,\u001b[0m \u001b[0morder\u001b[0m\u001b[0;34m=\u001b[0m\u001b[0morder\u001b[0m\u001b[0;34m,\u001b[0m \u001b[0mlike\u001b[0m\u001b[0;34m=\u001b[0m\u001b[0mlike\u001b[0m\u001b[0;34m)\u001b[0m\u001b[0;34m\u001b[0m\u001b[0;34m\u001b[0m\u001b[0m\n\u001b[1;32m    101\u001b[0m \u001b[0;34m\u001b[0m\u001b[0m\n\u001b[0;32m--> 102\u001b[0;31m     \u001b[0;32mreturn\u001b[0m \u001b[0marray\u001b[0m\u001b[0;34m(\u001b[0m\u001b[0ma\u001b[0m\u001b[0;34m,\u001b[0m \u001b[0mdtype\u001b[0m\u001b[0;34m,\u001b[0m \u001b[0mcopy\u001b[0m\u001b[0;34m=\u001b[0m\u001b[0;32mFalse\u001b[0m\u001b[0;34m,\u001b[0m \u001b[0morder\u001b[0m\u001b[0;34m=\u001b[0m\u001b[0morder\u001b[0m\u001b[0;34m)\u001b[0m\u001b[0;34m\u001b[0m\u001b[0;34m\u001b[0m\u001b[0m\n\u001b[0m\u001b[1;32m    103\u001b[0m \u001b[0;34m\u001b[0m\u001b[0m\n\u001b[1;32m    104\u001b[0m \u001b[0;34m\u001b[0m\u001b[0m\n",
      "\u001b[0;31mTypeError\u001b[0m: float() argument must be a string or a number, not 'Timestamp'"
     ]
    }
   ],
   "source": [
    "import matplotlib.pyplot as plt\n",
    "import pandas as pd\n",
    "import statsmodels.api as sm\n",
    "from statsmodels.tsa.arima_model import ARIMA\n",
    "from statsmodels.tsa.seasonal import seasonal_decompose\n",
    "from statsmodels.tsa.stattools import adfuller as ADF\n",
    "\n",
    "def ARIMA_Model(timeseries, order):\n",
    "    model = ARIMA(timeseries, order=order)\n",
    "    return model.fit(disp=0)\n",
    "\n",
    "\n",
    "data=pd.read_csv('../data/SecondHand_Property _prices.csv')\n",
    "data['YEAR'] = pd.to_datetime(data['YEAR'], format='%Y')\n",
    "ts = pd.DataFrame(data, columns = ['YEAR', 'Dublin'])\n",
    "ts.index=ts['YEAR']\n",
    "del ts['YEAR']\n",
    "purchase_seq_train = data\n",
    "\n",
    "\n",
    "decomposition = seasonal_decompose(purchase_seq_train)\n",
    "trend = decomposition.trend\n",
    "seasonal = decomposition.seasonal\n",
    "residual = decomposition.resid\n",
    "\n",
    "trend = trend.fillna(0)\n",
    "seasonal = seasonal.fillna(0)\n",
    "residual = residual.fillna(0)\n",
    "\n",
    "# 趋势序列模型训练\n",
    "trend_model = ARIMA_Model(trend, (1, 0, 0))\n",
    "trend_fit_seq = trend_model.fittedvalues\n",
    "trend_predict_seq = trend_model.predict(start='1969-01-01', end='2014-01-01', dynamic=True)\n",
    "\n",
    "# 残差序列模型训练\n",
    "residual_model = ARIMA_Model(residual, (2, 0, 1))\n",
    "residual_fit_seq = residual_model.fittedvalues\n",
    "residual_predict_seq = residual_model.predict(start='1969-01-01', end='2014-01-01', dynamic=True)\n",
    "\n",
    "# 拟合训练集\n",
    "fit_seq = pd.Series(seasonal['value'], index=seasonal.index)\n",
    "fit_seq = fit_seq.add(trend_fit_seq, fill_value=0)\n",
    "fit_seq = fit_seq.add(residual_fit_seq, fill_value=0)\n",
    "\n",
    "plt.plot(fit_seq, color='red', label='fit_seq')\n",
    "plt.plot(purchase_seq_train, color='blue', label='purchase_seq_train')\n",
    "plt.legend(loc='best')\n",
    "plt.show()\n",
    "\n",
    "# 预测测试集\n",
    "# 这里测试数据的周期性是根据seasonal对象打印的结果，看到里面的数据每7天一个周期，2014-08-01~2014-08-10的数据正好和2014-04-04~2014-04-13的数据一致\n",
    "seasonal_predict_seq = seasonal['2016-01-01':'2021-01-01']\n",
    "\n",
    "predict_dates = pd.Series(\n",
    "    ['2016-01-01', '2017-01-01', '2018-01-01', '2019-01-01', '2020-01-01', '2021-01-01']).apply(lambda dates: pd.datetime.strptime(dates, '%Y'))\n",
    "\n",
    "seasonal_predict_seq.index = predict_dates\n",
    "\n",
    "predict_seq = pd.Series(seasonal_predict_seq['value'], index=seasonal_predict_seq.index)\n",
    "predict_seq = predict_seq.add(trend_predict_seq, fill_value=0)\n",
    "predict_seq = predict_seq.add(residual_predict_seq, fill_value=0)\n",
    "\n",
    "plt.plot(predict_seq, color='red', label='predict_seq')\n",
    "# plt.plot(purchase_seq_test, color='blue', label='purchase_seq_test')\n",
    "plt.legend(loc='best')\n",
    "plt.show()"
   ]
  },
  {
   "cell_type": "code",
   "execution_count": null,
   "id": "2383ba21",
   "metadata": {},
   "outputs": [],
   "source": []
  },
  {
   "cell_type": "code",
   "execution_count": null,
   "id": "61c7ce31",
   "metadata": {},
   "outputs": [],
   "source": []
  },
  {
   "cell_type": "code",
   "execution_count": null,
   "id": "ab18bf2d",
   "metadata": {},
   "outputs": [],
   "source": []
  },
  {
   "cell_type": "code",
   "execution_count": null,
   "id": "f568fa92",
   "metadata": {},
   "outputs": [],
   "source": []
  },
  {
   "cell_type": "code",
   "execution_count": null,
   "id": "bbda263b",
   "metadata": {},
   "outputs": [],
   "source": []
  },
  {
   "cell_type": "code",
   "execution_count": null,
   "id": "1babfc9c",
   "metadata": {},
   "outputs": [],
   "source": []
  },
  {
   "cell_type": "code",
   "execution_count": null,
   "id": "770ddabb",
   "metadata": {},
   "outputs": [],
   "source": [
    "import matplotlib.pyplot as plt\n",
    "import pandas as pd\n",
    "import statsmodels.api as sm\n",
    "from statsmodels.tsa.arima_model import ARIMA\n",
    "from statsmodels.tsa.seasonal import seasonal_decompose\n",
    "from statsmodels.tsa.stattools import adfuller as ADF\n",
    "\n",
    "def ARIMA_Model(timeseries, order):\n",
    "    model = ARIMA(timeseries, order=order)\n",
    "    return model.fit(disp=0)\n",
    "\n",
    "\n",
    "dateparse = lambda dates: pd.datetime.strptime(dates, '%Y-%m-%d')\n",
    "purchase_seq_train = pd.read_csv('./purchase_seq_train.csv', parse_dates=['report_date'],\n",
    "                                 index_col='report_date', date_parser=dateparse)\n",
    "\n",
    "purchase_seq_test = pd.read_csv('./purchase_seq_test.csv', parse_dates=['report_date'],\n",
    "                                index_col='report_date', date_parser=dateparse)\n",
    "\n",
    "\n",
    "decomposition = seasonal_decompose(purchase_seq_train)\n",
    "trend = decomposition.trend\n",
    "seasonal = decomposition.seasonal\n",
    "residual = decomposition.resid\n",
    "\n",
    "trend = trend.fillna(0)\n",
    "seasonal = seasonal.fillna(0)\n",
    "residual = residual.fillna(0)\n",
    "\n",
    "# 趋势序列模型训练\n",
    "trend_model = ARIMA_Model(trend, (1, 0, 0))\n",
    "trend_fit_seq = trend_model.fittedvalues\n",
    "trend_predict_seq = trend_model.predict(start='2014-08-01', end='2014-08-10', dynamic=True)\n",
    "\n",
    "# 残差序列模型训练\n",
    "residual_model = ARIMA_Model(residual, (2, 0, 1))\n",
    "residual_fit_seq = residual_model.fittedvalues\n",
    "residual_predict_seq = residual_model.predict(start='2014-08-01', end='2014-08-10', dynamic=True)\n",
    "\n",
    "# 拟合训练集\n",
    "fit_seq = pd.Series(seasonal['value'], index=seasonal.index)\n",
    "fit_seq = fit_seq.add(trend_fit_seq, fill_value=0)\n",
    "fit_seq = fit_seq.add(residual_fit_seq, fill_value=0)\n",
    "\n",
    "plt.plot(fit_seq, color='red', label='fit_seq')\n",
    "plt.plot(purchase_seq_train, color='blue', label='purchase_seq_train')\n",
    "plt.legend(loc='best')\n",
    "plt.show()\n",
    "\n",
    "# 预测测试集\n",
    "# 这里测试数据的周期性是根据seasonal对象打印的结果，看到里面的数据每7天一个周期，2014-08-01~2014-08-10的数据正好和2014-04-04~2014-04-13的数据一致\n",
    "seasonal_predict_seq = seasonal['2014-04-04':'2014-04-13']\n",
    "\n",
    "predict_dates = pd.Series(\n",
    "    ['2014-08-01', '2014-08-02', '2014-08-03', '2014-08-04', '2014-08-05', '2014-08-06', '2014-08-07', '2014-08-08',\n",
    "     '2014-08-09', '2014-08-10']).apply(lambda dates: pd.datetime.strptime(dates, '%Y-%m-%d'))\n",
    "\n",
    "seasonal_predict_seq.index = predict_dates\n",
    "\n",
    "predict_seq = pd.Series(seasonal_predict_seq['value'], index=seasonal_predict_seq.index)\n",
    "predict_seq = predict_seq.add(trend_predict_seq, fill_value=0)\n",
    "predict_seq = predict_seq.add(residual_predict_seq, fill_value=0)\n",
    "\n",
    "plt.plot(predict_seq, color='red', label='predict_seq')\n",
    "plt.plot(purchase_seq_test, color='blue', label='purchase_seq_test')\n",
    "plt.legend(loc='best')\n",
    "plt.show()"
   ]
  },
  {
   "cell_type": "code",
   "execution_count": null,
   "id": "e90dbb4f",
   "metadata": {},
   "outputs": [],
   "source": []
  },
  {
   "cell_type": "code",
   "execution_count": null,
   "id": "10f2f737",
   "metadata": {},
   "outputs": [],
   "source": []
  },
  {
   "cell_type": "code",
   "execution_count": null,
   "id": "afe18af9",
   "metadata": {},
   "outputs": [],
   "source": []
  },
  {
   "cell_type": "code",
   "execution_count": null,
   "id": "a20e4df2",
   "metadata": {},
   "outputs": [],
   "source": []
  },
  {
   "cell_type": "code",
   "execution_count": null,
   "id": "e707e540",
   "metadata": {},
   "outputs": [],
   "source": []
  },
  {
   "cell_type": "code",
   "execution_count": null,
   "id": "e71ea386",
   "metadata": {},
   "outputs": [],
   "source": []
  },
  {
   "cell_type": "code",
   "execution_count": null,
   "id": "c7dad728",
   "metadata": {
    "scrolled": true
   },
   "outputs": [],
   "source": [
    "# 3、差分"
   ]
  },
  {
   "cell_type": "code",
   "execution_count": null,
   "id": "ca304ec2",
   "metadata": {},
   "outputs": [],
   "source": [
    "# 4、分解"
   ]
  },
  {
   "cell_type": "code",
   "execution_count": null,
   "id": "29039bc8",
   "metadata": {},
   "outputs": [],
   "source": [
    "# 6. 模型识别"
   ]
  },
  {
   "cell_type": "code",
   "execution_count": null,
   "id": "76352e9e",
   "metadata": {},
   "outputs": [],
   "source": [
    "# 7.样本拟合"
   ]
  },
  {
   "cell_type": "code",
   "execution_count": null,
   "id": "a7db3f87",
   "metadata": {},
   "outputs": [],
   "source": [
    "# 8.完善ARIMA模型"
   ]
  },
  {
   "cell_type": "code",
   "execution_count": null,
   "id": "851ed260",
   "metadata": {},
   "outputs": [],
   "source": [
    "# 9.滚动预测"
   ]
  },
  {
   "cell_type": "code",
   "execution_count": null,
   "id": "2342e66d",
   "metadata": {},
   "outputs": [],
   "source": [
    "# 10.模型序列化"
   ]
  },
  {
   "cell_type": "code",
   "execution_count": null,
   "id": "4e09026d",
   "metadata": {
    "scrolled": false
   },
   "outputs": [],
   "source": []
  },
  {
   "cell_type": "code",
   "execution_count": null,
   "id": "81607525",
   "metadata": {},
   "outputs": [],
   "source": []
  },
  {
   "cell_type": "code",
   "execution_count": null,
   "id": "e82f6a4b",
   "metadata": {},
   "outputs": [],
   "source": []
  },
  {
   "cell_type": "code",
   "execution_count": null,
   "id": "b5d48dcb",
   "metadata": {},
   "outputs": [],
   "source": []
  },
  {
   "cell_type": "code",
   "execution_count": null,
   "id": "cbf09687",
   "metadata": {},
   "outputs": [],
   "source": []
  }
 ],
 "metadata": {
  "kernelspec": {
   "display_name": "Python 3",
   "language": "python",
   "name": "python3"
  },
  "language_info": {
   "codemirror_mode": {
    "name": "ipython",
    "version": 3
   },
   "file_extension": ".py",
   "mimetype": "text/x-python",
   "name": "python",
   "nbconvert_exporter": "python",
   "pygments_lexer": "ipython3",
   "version": "3.8.8"
  }
 },
 "nbformat": 4,
 "nbformat_minor": 5
}
