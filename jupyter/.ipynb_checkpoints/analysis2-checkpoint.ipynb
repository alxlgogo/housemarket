{
 "cells": [
  {
   "cell_type": "markdown",
   "id": "590c41d6",
   "metadata": {},
   "source": [
    "# 1. import utils"
   ]
  },
  {
   "cell_type": "code",
   "execution_count": 1,
   "id": "ebcfbb0d",
   "metadata": {},
   "outputs": [],
   "source": [
    "import pandas as pd\n",
    "import numpy as np\n",
    "%matplotlib inline\n",
    "import matplotlib.pyplot as plt\n",
    "import statsmodels.api as sm\n",
    "\n",
    "from matplotlib.pylab import rcParams\n",
    "import seaborn as sns     \n",
    "from statsmodels.graphics.tsaplots import plot_acf  \n",
    "from statsmodels.tsa.stattools import adfuller as ADF  \n",
    "from statsmodels.graphics.tsaplots import plot_pacf    \n",
    "from statsmodels.stats.diagnostic import acorr_ljungbox    \n",
    "from statsmodels.tsa.arima_model import ARIMA\n",
    "\n",
    "from flask import json"
   ]
  },
  {
   "cell_type": "code",
   "execution_count": null,
   "id": "424e661b",
   "metadata": {},
   "outputs": [],
   "source": []
  },
  {
   "cell_type": "markdown",
   "id": "7c117214",
   "metadata": {},
   "source": [
    "# 2. Read data"
   ]
  },
  {
   "cell_type": "code",
   "execution_count": 4,
   "id": "26d26d48",
   "metadata": {
    "scrolled": true
   },
   "outputs": [
    {
     "data": {
      "text/plain": [
       "Index(['National', 'Dublin', 'Cork', 'Galway', 'Limerick', 'Waterford',\n",
       "       'Other Areas'],\n",
       "      dtype='object')"
      ]
     },
     "execution_count": 4,
     "metadata": {},
     "output_type": "execute_result"
    }
   ],
   "source": [
    "#import data\n",
    "data=pd.read_csv('../data/SecondHand_Property _prices.csv')\n",
    "# print(data.head())\n",
    "# print(data[:10])\n",
    "\n",
    "\n",
    "# heads = data.columns\n",
    "# for x in heads:\n",
    "#     print(x)\n",
    "df = data\n",
    "head = df.columns\n",
    "# head\n",
    "\n",
    "\n",
    "\n",
    "# for x1 in df2:\n",
    "#     print(x1)\n",
    "\n",
    "# len(df2)\n",
    "\n",
    "\n",
    "city=\"Dublin\"\n",
    "dublin = data[city]\n",
    "dublin\n",
    "\n",
    "def convert_currency(value):\n",
    "    new_value = value.replace(',', '')\n",
    "    return np.int64(new_value)\n",
    "\n",
    "\n",
    "\n",
    "\n",
    "\n",
    "# tt = data[city].dropna().apply(convert_currency)\n",
    "\n",
    "\n",
    "\n",
    "# # print(tt[4:9])\n",
    "\n",
    "\n",
    "# tt.values\n",
    "\n",
    "# res = '{name:'+ city +',data='+ ttt +'}'\n",
    "\n",
    "# res\n",
    "\n",
    "# ts = data[city].dropna().apply(convert_currency)\n",
    "# # print(ts[4:9])\n",
    "\n",
    "# dd = ts.to_list()\n",
    "# # type(ts)\n",
    "\n",
    "# dic = {\n",
    "#   \"name\": \"Dublin\",\n",
    "#   \"data\": dd\n",
    "# }\n",
    "# ts1 = data[\"Cork\"].dropna().apply(convert_currency)\n",
    "# dd1 = ts1.to_list()\n",
    "# dic1 = {\n",
    "#   \"name\": \"Cork\",\n",
    "#   \"data\": dd1\n",
    "# }\n",
    "\n",
    "# series=[]\n",
    "# series.append(dic)\n",
    "# series.append(dic1)\n",
    "# series\n",
    "\n",
    "# for x4 in series:\n",
    "#     print(x4['name'])\n",
    "#     print(x4['data'])\n",
    "    \n",
    "    \n",
    "citys = data.columns\n",
    "\n",
    "citys=citys[1:len(citys)]\n",
    "citys  \n"
   ]
  },
  {
   "cell_type": "markdown",
   "id": "b9ec783c",
   "metadata": {},
   "source": [
    "# 3. convert data into time serious\n",
    "## 3.1 convert time object into timestamp"
   ]
  },
  {
   "cell_type": "code",
   "execution_count": 5,
   "id": "2f22bcfa",
   "metadata": {},
   "outputs": [
    {
     "name": "stdout",
     "output_type": "stream",
     "text": [
      "              Cork\n",
      "YEAR              \n",
      "1981-01-01  34,777\n",
      "1982-01-01  35,437\n",
      "1983-01-01  36,836\n",
      "1984-01-01  37,032\n",
      "1985-01-01  40,210\n"
     ]
    }
   ],
   "source": [
    "#format time\n",
    "city = 'Cork';\n",
    "data['YEAR'] = pd.to_datetime(data['YEAR'], format='%Y')\n",
    "ts = pd.DataFrame(data, columns = ['YEAR', city])\n",
    "ts.index=ts['YEAR']\n",
    "del ts['YEAR']\n",
    "print(ts[5:10])"
   ]
  },
  {
   "cell_type": "markdown",
   "id": "d68644a5",
   "metadata": {},
   "source": [
    "## 3.2 convert currency (remove ',' from currency)"
   ]
  },
  {
   "cell_type": "code",
   "execution_count": 9,
   "id": "fe7a8147",
   "metadata": {},
   "outputs": [],
   "source": [
    "#  ts['Cork'].dropna()"
   ]
  },
  {
   "cell_type": "code",
   "execution_count": 6,
   "id": "a07f8423",
   "metadata": {
    "scrolled": true
   },
   "outputs": [
    {
     "name": "stdout",
     "output_type": "stream",
     "text": [
      "YEAR\n",
      "1980-01-01    32387.0\n",
      "1981-01-01    34777.0\n",
      "1982-01-01    35437.0\n",
      "1983-01-01    36836.0\n",
      "1984-01-01    37032.0\n",
      "Name: Cork, dtype: float64\n"
     ]
    }
   ],
   "source": [
    "#convert currency\n",
    "def convert_currency(value):\n",
    "    new_value = value.replace(',', '')\n",
    "    return np.float64(new_value)\n",
    "\n",
    "# ts[city] = ts[city].dropna().apply(convert_currency)\n",
    "# print(ts[4:9])\n",
    "\n",
    "tt = ts[city].dropna().apply(convert_currency)\n",
    "print(tt[4:9])"
   ]
  },
  {
   "cell_type": "markdown",
   "id": "d967a053",
   "metadata": {},
   "source": [
    "# 4. check stationarity\n",
    "## 4.1 show time series plot\n",
    "### 4.11 Observe the time series plot BELOW, the growth trend is obvious and not stable.(NOT STABLE)"
   ]
  },
  {
   "cell_type": "code",
   "execution_count": 7,
   "id": "71aa7f9c",
   "metadata": {
    "scrolled": true
   },
   "outputs": [
    {
     "ename": "TypeError",
     "evalue": "unhashable type: 'numpy.ndarray'",
     "output_type": "error",
     "traceback": [
      "\u001b[0;31m---------------------------------------------------------------------------\u001b[0m",
      "\u001b[0;31mTypeError\u001b[0m                                 Traceback (most recent call last)",
      "\u001b[0;32m<ipython-input-7-42eb3a6b48f5>\u001b[0m in \u001b[0;36m<module>\u001b[0;34m\u001b[0m\n\u001b[1;32m      1\u001b[0m \u001b[0mplt\u001b[0m\u001b[0;34m.\u001b[0m\u001b[0mfigure\u001b[0m\u001b[0;34m(\u001b[0m\u001b[0mfigsize\u001b[0m\u001b[0;34m=\u001b[0m\u001b[0;34m(\u001b[0m\u001b[0;36m12\u001b[0m\u001b[0;34m,\u001b[0m \u001b[0;36m4\u001b[0m\u001b[0;34m)\u001b[0m\u001b[0;34m)\u001b[0m\u001b[0;34m;\u001b[0m\u001b[0;34m\u001b[0m\u001b[0;34m\u001b[0m\u001b[0m\n\u001b[1;32m      2\u001b[0m \u001b[0mplt\u001b[0m\u001b[0;34m.\u001b[0m\u001b[0mtitle\u001b[0m\u001b[0;34m(\u001b[0m\u001b[0;34m'secondhand house price'\u001b[0m\u001b[0;34m)\u001b[0m\u001b[0;34m\u001b[0m\u001b[0;34m\u001b[0m\u001b[0m\n\u001b[0;32m----> 3\u001b[0;31m \u001b[0mplt\u001b[0m\u001b[0;34m.\u001b[0m\u001b[0mplot\u001b[0m\u001b[0;34m(\u001b[0m\u001b[0mts\u001b[0m\u001b[0;34m)\u001b[0m\u001b[0;34m\u001b[0m\u001b[0;34m\u001b[0m\u001b[0m\n\u001b[0m",
      "\u001b[0;32m~/opt/anaconda3/lib/python3.8/site-packages/matplotlib/pyplot.py\u001b[0m in \u001b[0;36mplot\u001b[0;34m(scalex, scaley, data, *args, **kwargs)\u001b[0m\n\u001b[1;32m   2755\u001b[0m \u001b[0;34m@\u001b[0m\u001b[0m_copy_docstring_and_deprecators\u001b[0m\u001b[0;34m(\u001b[0m\u001b[0mAxes\u001b[0m\u001b[0;34m.\u001b[0m\u001b[0mplot\u001b[0m\u001b[0;34m)\u001b[0m\u001b[0;34m\u001b[0m\u001b[0;34m\u001b[0m\u001b[0m\n\u001b[1;32m   2756\u001b[0m \u001b[0;32mdef\u001b[0m \u001b[0mplot\u001b[0m\u001b[0;34m(\u001b[0m\u001b[0;34m*\u001b[0m\u001b[0margs\u001b[0m\u001b[0;34m,\u001b[0m \u001b[0mscalex\u001b[0m\u001b[0;34m=\u001b[0m\u001b[0;32mTrue\u001b[0m\u001b[0;34m,\u001b[0m \u001b[0mscaley\u001b[0m\u001b[0;34m=\u001b[0m\u001b[0;32mTrue\u001b[0m\u001b[0;34m,\u001b[0m \u001b[0mdata\u001b[0m\u001b[0;34m=\u001b[0m\u001b[0;32mNone\u001b[0m\u001b[0;34m,\u001b[0m \u001b[0;34m**\u001b[0m\u001b[0mkwargs\u001b[0m\u001b[0;34m)\u001b[0m\u001b[0;34m:\u001b[0m\u001b[0;34m\u001b[0m\u001b[0;34m\u001b[0m\u001b[0m\n\u001b[0;32m-> 2757\u001b[0;31m     return gca().plot(\n\u001b[0m\u001b[1;32m   2758\u001b[0m         \u001b[0;34m*\u001b[0m\u001b[0margs\u001b[0m\u001b[0;34m,\u001b[0m \u001b[0mscalex\u001b[0m\u001b[0;34m=\u001b[0m\u001b[0mscalex\u001b[0m\u001b[0;34m,\u001b[0m \u001b[0mscaley\u001b[0m\u001b[0;34m=\u001b[0m\u001b[0mscaley\u001b[0m\u001b[0;34m,\u001b[0m\u001b[0;34m\u001b[0m\u001b[0;34m\u001b[0m\u001b[0m\n\u001b[1;32m   2759\u001b[0m         **({\"data\": data} if data is not None else {}), **kwargs)\n",
      "\u001b[0;32m~/opt/anaconda3/lib/python3.8/site-packages/matplotlib/axes/_axes.py\u001b[0m in \u001b[0;36mplot\u001b[0;34m(self, scalex, scaley, data, *args, **kwargs)\u001b[0m\n\u001b[1;32m   1630\u001b[0m         \"\"\"\n\u001b[1;32m   1631\u001b[0m         \u001b[0mkwargs\u001b[0m \u001b[0;34m=\u001b[0m \u001b[0mcbook\u001b[0m\u001b[0;34m.\u001b[0m\u001b[0mnormalize_kwargs\u001b[0m\u001b[0;34m(\u001b[0m\u001b[0mkwargs\u001b[0m\u001b[0;34m,\u001b[0m \u001b[0mmlines\u001b[0m\u001b[0;34m.\u001b[0m\u001b[0mLine2D\u001b[0m\u001b[0;34m)\u001b[0m\u001b[0;34m\u001b[0m\u001b[0;34m\u001b[0m\u001b[0m\n\u001b[0;32m-> 1632\u001b[0;31m         \u001b[0mlines\u001b[0m \u001b[0;34m=\u001b[0m \u001b[0;34m[\u001b[0m\u001b[0;34m*\u001b[0m\u001b[0mself\u001b[0m\u001b[0;34m.\u001b[0m\u001b[0m_get_lines\u001b[0m\u001b[0;34m(\u001b[0m\u001b[0;34m*\u001b[0m\u001b[0margs\u001b[0m\u001b[0;34m,\u001b[0m \u001b[0mdata\u001b[0m\u001b[0;34m=\u001b[0m\u001b[0mdata\u001b[0m\u001b[0;34m,\u001b[0m \u001b[0;34m**\u001b[0m\u001b[0mkwargs\u001b[0m\u001b[0;34m)\u001b[0m\u001b[0;34m]\u001b[0m\u001b[0;34m\u001b[0m\u001b[0;34m\u001b[0m\u001b[0m\n\u001b[0m\u001b[1;32m   1633\u001b[0m         \u001b[0;32mfor\u001b[0m \u001b[0mline\u001b[0m \u001b[0;32min\u001b[0m \u001b[0mlines\u001b[0m\u001b[0;34m:\u001b[0m\u001b[0;34m\u001b[0m\u001b[0;34m\u001b[0m\u001b[0m\n\u001b[1;32m   1634\u001b[0m             \u001b[0mself\u001b[0m\u001b[0;34m.\u001b[0m\u001b[0madd_line\u001b[0m\u001b[0;34m(\u001b[0m\u001b[0mline\u001b[0m\u001b[0;34m)\u001b[0m\u001b[0;34m\u001b[0m\u001b[0;34m\u001b[0m\u001b[0m\n",
      "\u001b[0;32m~/opt/anaconda3/lib/python3.8/site-packages/matplotlib/axes/_base.py\u001b[0m in \u001b[0;36m__call__\u001b[0;34m(self, data, *args, **kwargs)\u001b[0m\n\u001b[1;32m    310\u001b[0m                 \u001b[0mthis\u001b[0m \u001b[0;34m+=\u001b[0m \u001b[0margs\u001b[0m\u001b[0;34m[\u001b[0m\u001b[0;36m0\u001b[0m\u001b[0;34m]\u001b[0m\u001b[0;34m,\u001b[0m\u001b[0;34m\u001b[0m\u001b[0;34m\u001b[0m\u001b[0m\n\u001b[1;32m    311\u001b[0m                 \u001b[0margs\u001b[0m \u001b[0;34m=\u001b[0m \u001b[0margs\u001b[0m\u001b[0;34m[\u001b[0m\u001b[0;36m1\u001b[0m\u001b[0;34m:\u001b[0m\u001b[0;34m]\u001b[0m\u001b[0;34m\u001b[0m\u001b[0;34m\u001b[0m\u001b[0m\n\u001b[0;32m--> 312\u001b[0;31m             \u001b[0;32myield\u001b[0m \u001b[0;32mfrom\u001b[0m \u001b[0mself\u001b[0m\u001b[0;34m.\u001b[0m\u001b[0m_plot_args\u001b[0m\u001b[0;34m(\u001b[0m\u001b[0mthis\u001b[0m\u001b[0;34m,\u001b[0m \u001b[0mkwargs\u001b[0m\u001b[0;34m)\u001b[0m\u001b[0;34m\u001b[0m\u001b[0;34m\u001b[0m\u001b[0m\n\u001b[0m\u001b[1;32m    313\u001b[0m \u001b[0;34m\u001b[0m\u001b[0m\n\u001b[1;32m    314\u001b[0m     \u001b[0;32mdef\u001b[0m \u001b[0mget_next_color\u001b[0m\u001b[0;34m(\u001b[0m\u001b[0mself\u001b[0m\u001b[0;34m)\u001b[0m\u001b[0;34m:\u001b[0m\u001b[0;34m\u001b[0m\u001b[0;34m\u001b[0m\u001b[0m\n",
      "\u001b[0;32m~/opt/anaconda3/lib/python3.8/site-packages/matplotlib/axes/_base.py\u001b[0m in \u001b[0;36m_plot_args\u001b[0;34m(self, tup, kwargs, return_kwargs)\u001b[0m\n\u001b[1;32m    493\u001b[0m             \u001b[0mself\u001b[0m\u001b[0;34m.\u001b[0m\u001b[0maxes\u001b[0m\u001b[0;34m.\u001b[0m\u001b[0mxaxis\u001b[0m\u001b[0;34m.\u001b[0m\u001b[0mupdate_units\u001b[0m\u001b[0;34m(\u001b[0m\u001b[0mx\u001b[0m\u001b[0;34m)\u001b[0m\u001b[0;34m\u001b[0m\u001b[0;34m\u001b[0m\u001b[0m\n\u001b[1;32m    494\u001b[0m         \u001b[0;32mif\u001b[0m \u001b[0mself\u001b[0m\u001b[0;34m.\u001b[0m\u001b[0maxes\u001b[0m\u001b[0;34m.\u001b[0m\u001b[0myaxis\u001b[0m \u001b[0;32mis\u001b[0m \u001b[0;32mnot\u001b[0m \u001b[0;32mNone\u001b[0m\u001b[0;34m:\u001b[0m\u001b[0;34m\u001b[0m\u001b[0;34m\u001b[0m\u001b[0m\n\u001b[0;32m--> 495\u001b[0;31m             \u001b[0mself\u001b[0m\u001b[0;34m.\u001b[0m\u001b[0maxes\u001b[0m\u001b[0;34m.\u001b[0m\u001b[0myaxis\u001b[0m\u001b[0;34m.\u001b[0m\u001b[0mupdate_units\u001b[0m\u001b[0;34m(\u001b[0m\u001b[0my\u001b[0m\u001b[0;34m)\u001b[0m\u001b[0;34m\u001b[0m\u001b[0;34m\u001b[0m\u001b[0m\n\u001b[0m\u001b[1;32m    496\u001b[0m \u001b[0;34m\u001b[0m\u001b[0m\n\u001b[1;32m    497\u001b[0m         \u001b[0;32mif\u001b[0m \u001b[0mx\u001b[0m\u001b[0;34m.\u001b[0m\u001b[0mshape\u001b[0m\u001b[0;34m[\u001b[0m\u001b[0;36m0\u001b[0m\u001b[0;34m]\u001b[0m \u001b[0;34m!=\u001b[0m \u001b[0my\u001b[0m\u001b[0;34m.\u001b[0m\u001b[0mshape\u001b[0m\u001b[0;34m[\u001b[0m\u001b[0;36m0\u001b[0m\u001b[0;34m]\u001b[0m\u001b[0;34m:\u001b[0m\u001b[0;34m\u001b[0m\u001b[0;34m\u001b[0m\u001b[0m\n",
      "\u001b[0;32m~/opt/anaconda3/lib/python3.8/site-packages/matplotlib/axis.py\u001b[0m in \u001b[0;36mupdate_units\u001b[0;34m(self, data)\u001b[0m\n\u001b[1;32m   1447\u001b[0m         \u001b[0mneednew\u001b[0m \u001b[0;34m=\u001b[0m \u001b[0mself\u001b[0m\u001b[0;34m.\u001b[0m\u001b[0mconverter\u001b[0m \u001b[0;34m!=\u001b[0m \u001b[0mconverter\u001b[0m\u001b[0;34m\u001b[0m\u001b[0;34m\u001b[0m\u001b[0m\n\u001b[1;32m   1448\u001b[0m         \u001b[0mself\u001b[0m\u001b[0;34m.\u001b[0m\u001b[0mconverter\u001b[0m \u001b[0;34m=\u001b[0m \u001b[0mconverter\u001b[0m\u001b[0;34m\u001b[0m\u001b[0;34m\u001b[0m\u001b[0m\n\u001b[0;32m-> 1449\u001b[0;31m         \u001b[0mdefault\u001b[0m \u001b[0;34m=\u001b[0m \u001b[0mself\u001b[0m\u001b[0;34m.\u001b[0m\u001b[0mconverter\u001b[0m\u001b[0;34m.\u001b[0m\u001b[0mdefault_units\u001b[0m\u001b[0;34m(\u001b[0m\u001b[0mdata\u001b[0m\u001b[0;34m,\u001b[0m \u001b[0mself\u001b[0m\u001b[0;34m)\u001b[0m\u001b[0;34m\u001b[0m\u001b[0;34m\u001b[0m\u001b[0m\n\u001b[0m\u001b[1;32m   1450\u001b[0m         \u001b[0;32mif\u001b[0m \u001b[0mdefault\u001b[0m \u001b[0;32mis\u001b[0m \u001b[0;32mnot\u001b[0m \u001b[0;32mNone\u001b[0m \u001b[0;32mand\u001b[0m \u001b[0mself\u001b[0m\u001b[0;34m.\u001b[0m\u001b[0munits\u001b[0m \u001b[0;32mis\u001b[0m \u001b[0;32mNone\u001b[0m\u001b[0;34m:\u001b[0m\u001b[0;34m\u001b[0m\u001b[0;34m\u001b[0m\u001b[0m\n\u001b[1;32m   1451\u001b[0m             \u001b[0mself\u001b[0m\u001b[0;34m.\u001b[0m\u001b[0mset_units\u001b[0m\u001b[0;34m(\u001b[0m\u001b[0mdefault\u001b[0m\u001b[0;34m)\u001b[0m\u001b[0;34m\u001b[0m\u001b[0;34m\u001b[0m\u001b[0m\n",
      "\u001b[0;32m~/opt/anaconda3/lib/python3.8/site-packages/matplotlib/category.py\u001b[0m in \u001b[0;36mdefault_units\u001b[0;34m(data, axis)\u001b[0m\n\u001b[1;32m    114\u001b[0m         \u001b[0;31m# the conversion call stack is default_units -> axis_info -> convert\u001b[0m\u001b[0;34m\u001b[0m\u001b[0;34m\u001b[0m\u001b[0;34m\u001b[0m\u001b[0m\n\u001b[1;32m    115\u001b[0m         \u001b[0;32mif\u001b[0m \u001b[0maxis\u001b[0m\u001b[0;34m.\u001b[0m\u001b[0munits\u001b[0m \u001b[0;32mis\u001b[0m \u001b[0;32mNone\u001b[0m\u001b[0;34m:\u001b[0m\u001b[0;34m\u001b[0m\u001b[0;34m\u001b[0m\u001b[0m\n\u001b[0;32m--> 116\u001b[0;31m             \u001b[0maxis\u001b[0m\u001b[0;34m.\u001b[0m\u001b[0mset_units\u001b[0m\u001b[0;34m(\u001b[0m\u001b[0mUnitData\u001b[0m\u001b[0;34m(\u001b[0m\u001b[0mdata\u001b[0m\u001b[0;34m)\u001b[0m\u001b[0;34m)\u001b[0m\u001b[0;34m\u001b[0m\u001b[0;34m\u001b[0m\u001b[0m\n\u001b[0m\u001b[1;32m    117\u001b[0m         \u001b[0;32melse\u001b[0m\u001b[0;34m:\u001b[0m\u001b[0;34m\u001b[0m\u001b[0;34m\u001b[0m\u001b[0m\n\u001b[1;32m    118\u001b[0m             \u001b[0maxis\u001b[0m\u001b[0;34m.\u001b[0m\u001b[0munits\u001b[0m\u001b[0;34m.\u001b[0m\u001b[0mupdate\u001b[0m\u001b[0;34m(\u001b[0m\u001b[0mdata\u001b[0m\u001b[0;34m)\u001b[0m\u001b[0;34m\u001b[0m\u001b[0;34m\u001b[0m\u001b[0m\n",
      "\u001b[0;32m~/opt/anaconda3/lib/python3.8/site-packages/matplotlib/category.py\u001b[0m in \u001b[0;36m__init__\u001b[0;34m(self, data)\u001b[0m\n\u001b[1;32m    190\u001b[0m         \u001b[0mself\u001b[0m\u001b[0;34m.\u001b[0m\u001b[0m_counter\u001b[0m \u001b[0;34m=\u001b[0m \u001b[0mitertools\u001b[0m\u001b[0;34m.\u001b[0m\u001b[0mcount\u001b[0m\u001b[0;34m(\u001b[0m\u001b[0;34m)\u001b[0m\u001b[0;34m\u001b[0m\u001b[0;34m\u001b[0m\u001b[0m\n\u001b[1;32m    191\u001b[0m         \u001b[0;32mif\u001b[0m \u001b[0mdata\u001b[0m \u001b[0;32mis\u001b[0m \u001b[0;32mnot\u001b[0m \u001b[0;32mNone\u001b[0m\u001b[0;34m:\u001b[0m\u001b[0;34m\u001b[0m\u001b[0;34m\u001b[0m\u001b[0m\n\u001b[0;32m--> 192\u001b[0;31m             \u001b[0mself\u001b[0m\u001b[0;34m.\u001b[0m\u001b[0mupdate\u001b[0m\u001b[0;34m(\u001b[0m\u001b[0mdata\u001b[0m\u001b[0;34m)\u001b[0m\u001b[0;34m\u001b[0m\u001b[0;34m\u001b[0m\u001b[0m\n\u001b[0m\u001b[1;32m    193\u001b[0m \u001b[0;34m\u001b[0m\u001b[0m\n\u001b[1;32m    194\u001b[0m     \u001b[0;34m@\u001b[0m\u001b[0mstaticmethod\u001b[0m\u001b[0;34m\u001b[0m\u001b[0;34m\u001b[0m\u001b[0m\n",
      "\u001b[0;32m~/opt/anaconda3/lib/python3.8/site-packages/matplotlib/category.py\u001b[0m in \u001b[0;36mupdate\u001b[0;34m(self, data)\u001b[0m\n\u001b[1;32m    223\u001b[0m         \u001b[0;31m# check if convertible to number:\u001b[0m\u001b[0;34m\u001b[0m\u001b[0;34m\u001b[0m\u001b[0;34m\u001b[0m\u001b[0m\n\u001b[1;32m    224\u001b[0m         \u001b[0mconvertible\u001b[0m \u001b[0;34m=\u001b[0m \u001b[0;32mTrue\u001b[0m\u001b[0;34m\u001b[0m\u001b[0;34m\u001b[0m\u001b[0m\n\u001b[0;32m--> 225\u001b[0;31m         \u001b[0;32mfor\u001b[0m \u001b[0mval\u001b[0m \u001b[0;32min\u001b[0m \u001b[0mOrderedDict\u001b[0m\u001b[0;34m.\u001b[0m\u001b[0mfromkeys\u001b[0m\u001b[0;34m(\u001b[0m\u001b[0mdata\u001b[0m\u001b[0;34m)\u001b[0m\u001b[0;34m:\u001b[0m\u001b[0;34m\u001b[0m\u001b[0;34m\u001b[0m\u001b[0m\n\u001b[0m\u001b[1;32m    226\u001b[0m             \u001b[0;31m# OrderedDict just iterates over unique values in data.\u001b[0m\u001b[0;34m\u001b[0m\u001b[0;34m\u001b[0m\u001b[0;34m\u001b[0m\u001b[0m\n\u001b[1;32m    227\u001b[0m             \u001b[0m_api\u001b[0m\u001b[0;34m.\u001b[0m\u001b[0mcheck_isinstance\u001b[0m\u001b[0;34m(\u001b[0m\u001b[0;34m(\u001b[0m\u001b[0mstr\u001b[0m\u001b[0;34m,\u001b[0m \u001b[0mbytes\u001b[0m\u001b[0;34m)\u001b[0m\u001b[0;34m,\u001b[0m \u001b[0mvalue\u001b[0m\u001b[0;34m=\u001b[0m\u001b[0mval\u001b[0m\u001b[0;34m)\u001b[0m\u001b[0;34m\u001b[0m\u001b[0;34m\u001b[0m\u001b[0m\n",
      "\u001b[0;31mTypeError\u001b[0m: unhashable type: 'numpy.ndarray'"
     ]
    },
    {
     "data": {
      "image/png": "[encoded data removed]",
      "text/plain": [
       "<Figure size 864x288 with 1 Axes>"
      ]
     },
     "metadata": {
      "needs_background": "light"
     },
     "output_type": "display_data"
    }
   ],
   "source": [
    "plt.figure(figsize=(12, 4));\n",
    "plt.title('secondhand house price')\n",
    "# plt.plot(ts)"
   ]
  },
  {
   "cell_type": "markdown",
   "id": "63bb7ef7",
   "metadata": {},
   "source": [
    "## 4.2 ACF (check stationarity)"
   ]
  },
  {
   "cell_type": "code",
   "execution_count": 176,
   "id": "7b7d0b1c",
   "metadata": {},
   "outputs": [
    {
     "data": {
      "image/png": "[encoded data removed]",
      "text/plain": [
       "<Figure size 864x288 with 1 Axes>"
      ]
     },
     "metadata": {
      "needs_background": "light"
     },
     "output_type": "display_data"
    }
   ],
   "source": [
    "# plot_acf(ts,lags=len(ts)-1);\n",
    "fig = sm.graphics.tsa.plot_acf(ts.dropna(),lags=len(ts.dropna())-1)\n",
    "fig.set_size_inches(12, 4)"
   ]
  },
  {
   "cell_type": "markdown",
   "id": "65858929",
   "metadata": {},
   "source": [
    "## 4.3 PACF (check stationarity)"
   ]
  },
  {
   "cell_type": "code",
   "execution_count": 13,
   "id": "5dafcea2",
   "metadata": {},
   "outputs": [
    {
     "data": {
      "image/png": "[encoded data removed]",
      "text/plain": [
       "<Figure size 864x288 with 1 Axes>"
      ]
     },
     "metadata": {
      "needs_background": "light"
     },
     "output_type": "display_data"
    }
   ],
   "source": [
    "fig_pacf = plot_pacf(ts.dropna(),lags=len(ts.dropna())/2-1,method=\"ywm\",alpha=0.1)\n",
    "# fig = sm.graphics.tsa.plot_pacf(ts.dropna())\n",
    "fig_pacf.set_size_inches(12,4)"
   ]
  },
  {
   "cell_type": "markdown",
   "id": "6a93c612",
   "metadata": {},
   "source": [
    "## 4.4 ADF (check p value and critical value)\n",
    "In general, a p-value of less than 0.05 means you can reject the null hypothesis that there is a unit root.\n",
    "The p-value is obtained is greater than significance level of 0.05 and the ADF statistic is higher than any of the critical values. Clearly, there is no reason to reject the null hypothesis. So, the time series is in fact non-stationary."
   ]
  },
  {
   "cell_type": "code",
   "execution_count": 14,
   "id": "717aaefd",
   "metadata": {},
   "outputs": [
    {
     "data": {
      "text/html": [
       "<div>\n",
       "<style scoped>\n",
       "    .dataframe tbody tr th:only-of-type {\n",
       "        vertical-align: middle;\n",
       "    }\n",
       "\n",
       "    .dataframe tbody tr th {\n",
       "        vertical-align: top;\n",
       "    }\n",
       "\n",
       "    .dataframe thead th {\n",
       "        text-align: right;\n",
       "    }\n",
       "</style>\n",
       "<table border=\"1\" class=\"dataframe\">\n",
       "  <thead>\n",
       "    <tr style=\"text-align: right;\">\n",
       "      <th></th>\n",
       "      <th>value</th>\n",
       "    </tr>\n",
       "  </thead>\n",
       "  <tbody>\n",
       "    <tr>\n",
       "      <th>Test Statistic</th>\n",
       "      <td>2.151762</td>\n",
       "    </tr>\n",
       "    <tr>\n",
       "      <th>p-value</th>\n",
       "      <td>0.99884</td>\n",
       "    </tr>\n",
       "    <tr>\n",
       "      <th>Lags Used</th>\n",
       "      <td>9</td>\n",
       "    </tr>\n",
       "    <tr>\n",
       "      <th>N O B</th>\n",
       "      <td>30</td>\n",
       "    </tr>\n",
       "    <tr>\n",
       "      <th>Critical Value(1%)</th>\n",
       "      <td>-3.66992</td>\n",
       "    </tr>\n",
       "    <tr>\n",
       "      <th>Critical Value(5%)</th>\n",
       "      <td>-2.964071</td>\n",
       "    </tr>\n",
       "    <tr>\n",
       "      <th>Critical Value(10%)</th>\n",
       "      <td>-2.621171</td>\n",
       "    </tr>\n",
       "  </tbody>\n",
       "</table>\n",
       "</div>"
      ],
      "text/plain": [
       "                                value\n",
       "Test Statistic         2.151762\n",
       "p-value                       0.99884\n",
       "Lags Used                           9\n",
       "N O B        30\n",
       "Critical Value(1%)           -3.66992\n",
       "Critical Value(5%)          -2.964071\n",
       "Critical Value(10%)         -2.621171"
      ]
     },
     "execution_count": 14,
     "metadata": {},
     "output_type": "execute_result"
    }
   ],
   "source": [
    "import statsmodels as sm\n",
    "\n",
    "def getAdf(ts):\n",
    "    temp = np.array(ts)\n",
    "    adf = sm.tsa.stattools.adfuller(temp)\n",
    "    return adf\n",
    "def printAdf(t):\n",
    "    output=pd.DataFrame(index=['Test Statistic', \"p-value\", \"Lags Used\", \"N O B\",\"Critical Value(1%)\",\"Critical Value(5%)\",\"Critical Value(10%)\"],columns=['value'])\n",
    "    output['value']['Test Statistic'] = t[0]        \n",
    "    output['value']['p-value'] = t[1]                     \n",
    "    output['value']['Lags Used'] = t[2]                  \n",
    "    output['value']['N O B'] = t[3]\n",
    "    output['value']['Critical Value(1%)'] = t[4]['1%']\n",
    "    output['value']['Critical Value(5%)'] = t[4]['5%']\n",
    "    output['value']['Critical Value(10%)'] = t[4]['10%']\n",
    "    return output\n",
    "t = getAdf(ts.dropna())\n",
    "\n",
    "adf = printAdf(t)\n",
    "# output\n",
    "adf"
   ]
  },
  {
   "cell_type": "markdown",
   "id": "016dc89d",
   "metadata": {},
   "source": [
    "# 5.Smoothing\n",
    "Stationarity is a prerequisite for time series analysis, so we need to process the non-stationary series to convert it into a stationary series."
   ]
  },
  {
   "cell_type": "code",
   "execution_count": 49,
   "id": "63820514",
   "metadata": {},
   "outputs": [],
   "source": [
    "import numpy as np\n",
    "import pandas as pd\n",
    "from datetime import datetime\n",
    "import matplotlib.pylab as plt\n",
    "from matplotlib.pylab import rcParams\n",
    "from statsmodels.tsa.stattools import adfuller\n",
    "from statsmodels.graphics.tsaplots import plot_acf, plot_pacf\n",
    "from pylab import *\n",
    "\n",
    "plt.rcParams['font.family']=['SimHei']\n",
    "rcParams['figure.figsize'] = 10, 5\n",
    "\n",
    "def draw_trend(timeSeries, size):\n",
    "    f = plt.figure(facecolor='white')\n",
    "    rol_mean = timeSeries.rolling(window=size).mean()\n",
    "    rol_weighted_mean = timeSeries.ewm(span=size).mean()\n",
    "\n",
    "    timeSeries.plot(color='blue', label='Original')\n",
    "    rol_mean.plot(color='red', label='Rolling Mean')\n",
    "    rol_weighted_mean.plot(color='black', label='Weighted Rolling Mean')\n",
    "    plt.legend(loc='best')\n",
    "    plt.title('Rolling Mean')\n",
    "    plt.show()\n",
    "\n",
    "def draw_ts(timeSeries):\n",
    "    f = plt.figure(facecolor='white')\n",
    "    plt.plot(timeSeries,color='blue')\n",
    "    plt.title('Price')\n",
    "    plt.show()\n",
    "\n",
    "\n",
    "def testStationarity(timeSeries):\n",
    "    dftest = adfuller(timeSeries)\n",
    "    dfoutput = pd.Series(dftest[0:4], index=['Test Statistic','p-value','#Lags Used','N O B'])\n",
    "    for key,value in dftest[4].items():\n",
    "        dfoutput['Critical Value (%s)'%key] = value\n",
    "    return dfoutput\n",
    "\n",
    "def draw_acf_pacf(ts, lags=15):\n",
    "    f = plt.figure(facecolor='white')\n",
    "    ax1 = f.add_subplot(211)\n",
    "    plot_acf(ts, lags=15, ax=ax1)\n",
    "    ax2 = f.add_subplot(212)\n",
    "    plot_pacf(ts, lags=15, ax=ax2)\n",
    "    plt.show()\n"
   ]
  },
  {
   "cell_type": "markdown",
   "id": "39eff541",
   "metadata": {},
   "source": [
    "## 5.1 Logarithmic transformation"
   ]
  },
  {
   "cell_type": "code",
   "execution_count": 22,
   "id": "fca39591",
   "metadata": {
    "scrolled": true
   },
   "outputs": [],
   "source": [
    "ts_log = np.log(ts.dropna())\n",
    "# plt.plot(ts_log,color='blue')\n",
    "# ts_log.plot()\n",
    "# ts.dropna().head()\n",
    "# plt.show()\n",
    "\n",
    "# plt.plot(ts.dropna())\n",
    "# plt.plot(ts_log,color='red')"
   ]
  },
  {
   "cell_type": "code",
   "execution_count": 23,
   "id": "cdaa8b06",
   "metadata": {},
   "outputs": [
    {
     "data": {
      "text/html": [
       "<div>\n",
       "<style scoped>\n",
       "    .dataframe tbody tr th:only-of-type {\n",
       "        vertical-align: middle;\n",
       "    }\n",
       "\n",
       "    .dataframe tbody tr th {\n",
       "        vertical-align: top;\n",
       "    }\n",
       "\n",
       "    .dataframe thead th {\n",
       "        text-align: right;\n",
       "    }\n",
       "</style>\n",
       "<table border=\"1\" class=\"dataframe\">\n",
       "  <thead>\n",
       "    <tr style=\"text-align: right;\">\n",
       "      <th></th>\n",
       "      <th>value</th>\n",
       "    </tr>\n",
       "  </thead>\n",
       "  <tbody>\n",
       "    <tr>\n",
       "      <th>Test Statistic</th>\n",
       "      <td>2.151762</td>\n",
       "    </tr>\n",
       "    <tr>\n",
       "      <th>p-value</th>\n",
       "      <td>0.99884</td>\n",
       "    </tr>\n",
       "    <tr>\n",
       "      <th>Lags Used</th>\n",
       "      <td>9</td>\n",
       "    </tr>\n",
       "    <tr>\n",
       "      <th>N O B</th>\n",
       "      <td>30</td>\n",
       "    </tr>\n",
       "    <tr>\n",
       "      <th>Critical Value(1%)</th>\n",
       "      <td>-3.66992</td>\n",
       "    </tr>\n",
       "    <tr>\n",
       "      <th>Critical Value(5%)</th>\n",
       "      <td>-2.964071</td>\n",
       "    </tr>\n",
       "    <tr>\n",
       "      <th>Critical Value(10%)</th>\n",
       "      <td>-2.621171</td>\n",
       "    </tr>\n",
       "  </tbody>\n",
       "</table>\n",
       "</div>"
      ],
      "text/plain": [
       "                                value\n",
       "Test Statistic         2.151762\n",
       "p-value                       0.99884\n",
       "Lags Used                           9\n",
       "N O B        30\n",
       "Critical Value(1%)           -3.66992\n",
       "Critical Value(5%)          -2.964071\n",
       "Critical Value(10%)         -2.621171"
      ]
     },
     "execution_count": 23,
     "metadata": {},
     "output_type": "execute_result"
    }
   ],
   "source": [
    "temp = np.array(ts.dropna())\n",
    "t = getAdf(temp)\n",
    "log_Adf=printAdf(t)\n",
    "log_Adf"
   ]
  },
  {
   "cell_type": "markdown",
   "id": "4ea7cad3",
   "metadata": {},
   "source": [
    "# 5.2 moving average"
   ]
  },
  {
   "cell_type": "code",
   "execution_count": 24,
   "id": "95404555",
   "metadata": {},
   "outputs": [
    {
     "data": {
      "text/plain": [
       "[<matplotlib.lines.Line2D at 0x7fc83fb73490>]"
      ]
     },
     "execution_count": 24,
     "metadata": {},
     "output_type": "execute_result"
    },
    {
     "data": {
      "image/png": "[encoded data removed]",
      "text/plain": [
       "<Figure size 432x288 with 1 Axes>"
      ]
     },
     "metadata": {
      "needs_background": "light"
     },
     "output_type": "display_data"
    }
   ],
   "source": [
    "#moving average\n",
    "expwighted_avg = ts_log.ewm(halflife=12).mean()\n",
    "plt.plot(ts_log)\n",
    "plt.plot(expwighted_avg, color='red')"
   ]
  },
  {
   "cell_type": "code",
   "execution_count": 25,
   "id": "2453b3d6",
   "metadata": {},
   "outputs": [
    {
     "data": {
      "text/html": [
       "<div>\n",
       "<style scoped>\n",
       "    .dataframe tbody tr th:only-of-type {\n",
       "        vertical-align: middle;\n",
       "    }\n",
       "\n",
       "    .dataframe tbody tr th {\n",
       "        vertical-align: top;\n",
       "    }\n",
       "\n",
       "    .dataframe thead th {\n",
       "        text-align: right;\n",
       "    }\n",
       "</style>\n",
       "<table border=\"1\" class=\"dataframe\">\n",
       "  <thead>\n",
       "    <tr style=\"text-align: right;\">\n",
       "      <th></th>\n",
       "      <th>value</th>\n",
       "    </tr>\n",
       "  </thead>\n",
       "  <tbody>\n",
       "    <tr>\n",
       "      <th>Test Statistic</th>\n",
       "      <td>-0.434721</td>\n",
       "    </tr>\n",
       "    <tr>\n",
       "      <th>p-value</th>\n",
       "      <td>0.904138</td>\n",
       "    </tr>\n",
       "    <tr>\n",
       "      <th>Lags Used</th>\n",
       "      <td>2</td>\n",
       "    </tr>\n",
       "    <tr>\n",
       "      <th>N O B</th>\n",
       "      <td>37</td>\n",
       "    </tr>\n",
       "    <tr>\n",
       "      <th>Critical Value(1%)</th>\n",
       "      <td>-3.620918</td>\n",
       "    </tr>\n",
       "    <tr>\n",
       "      <th>Critical Value(5%)</th>\n",
       "      <td>-2.943539</td>\n",
       "    </tr>\n",
       "    <tr>\n",
       "      <th>Critical Value(10%)</th>\n",
       "      <td>-2.6104</td>\n",
       "    </tr>\n",
       "  </tbody>\n",
       "</table>\n",
       "</div>"
      ],
      "text/plain": [
       "                                value\n",
       "Test Statistic        -0.434721\n",
       "p-value                      0.904138\n",
       "Lags Used                           2\n",
       "N O B        37\n",
       "Critical Value(1%)          -3.620918\n",
       "Critical Value(5%)          -2.943539\n",
       "Critical Value(10%)           -2.6104"
      ]
     },
     "execution_count": 25,
     "metadata": {},
     "output_type": "execute_result"
    }
   ],
   "source": [
    "temp = np.array(expwighted_avg.dropna())\n",
    "t = getAdf(temp)\n",
    "log_Adf=printAdf(t)\n",
    "log_Adf"
   ]
  },
  {
   "cell_type": "markdown",
   "id": "117169dd",
   "metadata": {},
   "source": [
    "## 5.3 difference 1"
   ]
  },
  {
   "cell_type": "code",
   "execution_count": 26,
   "id": "4194073a",
   "metadata": {},
   "outputs": [
    {
     "data": {
      "text/html": [
       "<div>\n",
       "<style scoped>\n",
       "    .dataframe tbody tr th:only-of-type {\n",
       "        vertical-align: middle;\n",
       "    }\n",
       "\n",
       "    .dataframe tbody tr th {\n",
       "        vertical-align: top;\n",
       "    }\n",
       "\n",
       "    .dataframe thead th {\n",
       "        text-align: right;\n",
       "    }\n",
       "</style>\n",
       "<table border=\"1\" class=\"dataframe\">\n",
       "  <thead>\n",
       "    <tr style=\"text-align: right;\">\n",
       "      <th></th>\n",
       "      <th>value</th>\n",
       "    </tr>\n",
       "  </thead>\n",
       "  <tbody>\n",
       "    <tr>\n",
       "      <th>Test Statistic</th>\n",
       "      <td>-3.177477</td>\n",
       "    </tr>\n",
       "    <tr>\n",
       "      <th>p-value</th>\n",
       "      <td>0.021326</td>\n",
       "    </tr>\n",
       "    <tr>\n",
       "      <th>Lags Used</th>\n",
       "      <td>10</td>\n",
       "    </tr>\n",
       "    <tr>\n",
       "      <th>N O B</th>\n",
       "      <td>26</td>\n",
       "    </tr>\n",
       "    <tr>\n",
       "      <th>Critical Value(1%)</th>\n",
       "      <td>-3.711212</td>\n",
       "    </tr>\n",
       "    <tr>\n",
       "      <th>Critical Value(5%)</th>\n",
       "      <td>-2.981247</td>\n",
       "    </tr>\n",
       "    <tr>\n",
       "      <th>Critical Value(10%)</th>\n",
       "      <td>-2.630095</td>\n",
       "    </tr>\n",
       "  </tbody>\n",
       "</table>\n",
       "</div>"
      ],
      "text/plain": [
       "                                value\n",
       "Test Statistic        -3.177477\n",
       "p-value                      0.021326\n",
       "Lags Used                          10\n",
       "N O B        26\n",
       "Critical Value(1%)          -3.711212\n",
       "Critical Value(5%)          -2.981247\n",
       "Critical Value(10%)         -2.630095"
      ]
     },
     "execution_count": 26,
     "metadata": {},
     "output_type": "execute_result"
    },
    {
     "data": {
      "image/png": "[encoded data removed]",
      "text/plain": [
       "<Figure size 864x432 with 1 Axes>"
      ]
     },
     "metadata": {
      "needs_background": "light"
     },
     "output_type": "display_data"
    }
   ],
   "source": [
    "diff1 = expwighted_avg.diff(3)\n",
    "diff1.plot(figsize=(12,6))\n",
    "diff1.head()\n",
    "\n",
    "temp = np.array(diff1.dropna())\n",
    "t = getAdf(temp)\n",
    "log_Adf=printAdf(t)\n",
    "log_Adf\n"
   ]
  },
  {
   "cell_type": "markdown",
   "id": "8127dfb4",
   "metadata": {},
   "source": [
    "# 5.4 difference 2"
   ]
  },
  {
   "cell_type": "code",
   "execution_count": 28,
   "id": "5afe0771",
   "metadata": {},
   "outputs": [],
   "source": [
    "# diff2 = diff1.diff(3)\n",
    "# diff2.plot(figsize=(12,6))\n",
    "# diff2.head()\n",
    "\n",
    "# temp = np.array(diff2.dropna())\n",
    "# t = getAdf(temp)\n",
    "# log_Adf=printAdf(t)\n",
    "# log_Adf\n"
   ]
  },
  {
   "cell_type": "markdown",
   "id": "8dca6843",
   "metadata": {},
   "source": [
    "# 5.5 Detect white noise "
   ]
  },
  {
   "cell_type": "code",
   "execution_count": null,
   "id": "9ad86597",
   "metadata": {},
   "outputs": [],
   "source": [
    "rol_mean = ts_log.rolling(window=3).mean()\n",
    "rol_mean.dropna(inplace=True)\n",
    "ts_diff_1 = rol_mean.diff(1)\n",
    "ts_diff_1.dropna(inplace=True)\n",
    "testStationarity(ts_diff_1)\n",
    "ts_diff_1.plot()\n",
    "\n",
    "\n",
    "diff_shift_ts = ts_diff_1[city].shift(1)\n",
    "diff_recover_1 = predict_ts.add(diff_shift_ts)"
   ]
  },
  {
   "cell_type": "code",
   "execution_count": null,
   "id": "57083f6b",
   "metadata": {},
   "outputs": [],
   "source": [
    "# 6. Model selection and parameter determination"
   ]
  },
  {
   "cell_type": "code",
   "execution_count": null,
   "id": "051c4b7a",
   "metadata": {},
   "outputs": [],
   "source": []
  },
  {
   "cell_type": "code",
   "execution_count": null,
   "id": "5ab4bcda",
   "metadata": {},
   "outputs": [],
   "source": [
    "# 7. modeling and Refine the ARIMA model"
   ]
  },
  {
   "cell_type": "code",
   "execution_count": 31,
   "id": "072ab261",
   "metadata": {},
   "outputs": [
    {
     "name": "stderr",
     "output_type": "stream",
     "text": [
      "/Users/lwj/opt/anaconda3/lib/python3.8/site-packages/statsmodels/tsa/arima_model.py:472: FutureWarning: \n",
      "statsmodels.tsa.arima_model.ARMA and statsmodels.tsa.arima_model.ARIMA have\n",
      "been deprecated in favor of statsmodels.tsa.arima.model.ARIMA (note the .\n",
      "between arima and model) and\n",
      "statsmodels.tsa.SARIMAX. These will be removed after the 0.12 release.\n",
      "\n",
      "statsmodels.tsa.arima.model.ARIMA makes use of the statespace framework and\n",
      "is both well tested and maintained.\n",
      "\n",
      "To silence this warning and continue using ARMA and ARIMA until they are\n",
      "removed, use:\n",
      "\n",
      "import warnings\n",
      "warnings.filterwarnings('ignore', 'statsmodels.tsa.arima_model.ARMA',\n",
      "                        FutureWarning)\n",
      "warnings.filterwarnings('ignore', 'statsmodels.tsa.arima_model.ARIMA',\n",
      "                        FutureWarning)\n",
      "\n",
      "  warnings.warn(ARIMA_DEPRECATION_WARN, FutureWarning)\n",
      "/Users/lwj/opt/anaconda3/lib/python3.8/site-packages/statsmodels/tsa/base/tsa_model.py:524: ValueWarning: No frequency information was provided, so inferred frequency AS-JAN will be used.\n",
      "  warnings.warn('No frequency information was'\n",
      "/Users/lwj/opt/anaconda3/lib/python3.8/site-packages/statsmodels/tsa/base/tsa_model.py:524: ValueWarning: No frequency information was provided, so inferred frequency AS-JAN will be used.\n",
      "  warnings.warn('No frequency information was'\n"
     ]
    },
    {
     "data": {
      "text/html": [
       "<table class=\"simpletable\">\n",
       "<caption>ARIMA Model Results</caption>\n",
       "<tr>\n",
       "  <th>Dep. Variable:</th>      <td>D.Cork</td>      <th>  No. Observations:  </th>    <td>36</td>   \n",
       "</tr>\n",
       "<tr>\n",
       "  <th>Model:</th>          <td>ARIMA(2, 1, 0)</td>  <th>  Log Likelihood     </th>  <td>113.353</td>\n",
       "</tr>\n",
       "<tr>\n",
       "  <th>Method:</th>             <td>css-mle</td>     <th>  S.D. of innovations</th>   <td>0.010</td> \n",
       "</tr>\n",
       "<tr>\n",
       "  <th>Date:</th>          <td>Thu, 13 Jan 2022</td> <th>  AIC                </th> <td>-218.705</td>\n",
       "</tr>\n",
       "<tr>\n",
       "  <th>Time:</th>              <td>11:15:09</td>     <th>  BIC                </th> <td>-212.371</td>\n",
       "</tr>\n",
       "<tr>\n",
       "  <th>Sample:</th>           <td>01-01-1980</td>    <th>  HQIC               </th> <td>-216.495</td>\n",
       "</tr>\n",
       "<tr>\n",
       "  <th></th>                 <td>- 01-01-2015</td>   <th>                     </th>     <td> </td>   \n",
       "</tr>\n",
       "</table>\n",
       "<table class=\"simpletable\">\n",
       "<tr>\n",
       "        <td></td>          <th>coef</th>     <th>std err</th>      <th>z</th>      <th>P>|z|</th>  <th>[0.025</th>    <th>0.975]</th>  \n",
       "</tr>\n",
       "<tr>\n",
       "  <th>const</th>        <td>   -0.0038</td> <td>    0.006</td> <td>   -0.628</td> <td> 0.530</td> <td>   -0.016</td> <td>    0.008</td>\n",
       "</tr>\n",
       "<tr>\n",
       "  <th>ar.L1.D.Cork</th> <td>    1.2986</td> <td>    0.142</td> <td>    9.166</td> <td> 0.000</td> <td>    1.021</td> <td>    1.576</td>\n",
       "</tr>\n",
       "<tr>\n",
       "  <th>ar.L2.D.Cork</th> <td>   -0.5765</td> <td>    0.139</td> <td>   -4.139</td> <td> 0.000</td> <td>   -0.849</td> <td>   -0.303</td>\n",
       "</tr>\n",
       "</table>\n",
       "<table class=\"simpletable\">\n",
       "<caption>Roots</caption>\n",
       "<tr>\n",
       "    <td></td>   <th>            Real</th>  <th>         Imaginary</th> <th>         Modulus</th>  <th>        Frequency</th>\n",
       "</tr>\n",
       "<tr>\n",
       "  <th>AR.1</th> <td>           1.1264</td> <td>          -0.6826j</td> <td>           1.3171</td> <td>          -0.0867</td>\n",
       "</tr>\n",
       "<tr>\n",
       "  <th>AR.2</th> <td>           1.1264</td> <td>          +0.6826j</td> <td>           1.3171</td> <td>           0.0867</td>\n",
       "</tr>\n",
       "</table>"
      ],
      "text/plain": [
       "<class 'statsmodels.iolib.summary.Summary'>\n",
       "\"\"\"\n",
       "                             ARIMA Model Results                              \n",
       "==============================================================================\n",
       "Dep. Variable:                 D.Cork   No. Observations:                   36\n",
       "Model:                 ARIMA(2, 1, 0)   Log Likelihood                 113.353\n",
       "Method:                       css-mle   S.D. of innovations              0.010\n",
       "Date:                Thu, 13 Jan 2022   AIC                           -218.705\n",
       "Time:                        11:15:09   BIC                           -212.371\n",
       "Sample:                    01-01-1980   HQIC                          -216.495\n",
       "                         - 01-01-2015                                         \n",
       "================================================================================\n",
       "                   coef    std err          z      P>|z|      [0.025      0.975]\n",
       "--------------------------------------------------------------------------------\n",
       "const           -0.0038      0.006     -0.628      0.530      -0.016       0.008\n",
       "ar.L1.D.Cork     1.2986      0.142      9.166      0.000       1.021       1.576\n",
       "ar.L2.D.Cork    -0.5765      0.139     -4.139      0.000      -0.849      -0.303\n",
       "                                    Roots                                    \n",
       "=============================================================================\n",
       "                  Real          Imaginary           Modulus         Frequency\n",
       "-----------------------------------------------------------------------------\n",
       "AR.1            1.1264           -0.6826j            1.3171           -0.0867\n",
       "AR.2            1.1264           +0.6826j            1.3171            0.0867\n",
       "-----------------------------------------------------------------------------\n",
       "\"\"\""
      ]
     },
     "execution_count": 31,
     "metadata": {},
     "output_type": "execute_result"
    }
   ],
   "source": [
    "model = ARIMA(diff1.dropna(), order=(2,1,0))\n",
    "model_fit = model.fit()\n",
    "model_fit.summary()"
   ]
  },
  {
   "cell_type": "code",
   "execution_count": null,
   "id": "c2182cea",
   "metadata": {},
   "outputs": [],
   "source": [
    "# 8. prediction"
   ]
  },
  {
   "cell_type": "code",
   "execution_count": 32,
   "id": "e82df873",
   "metadata": {},
   "outputs": [
    {
     "data": {
      "text/plain": [
       "(array([0.0754837 , 0.07642874, 0.07702148, 0.07619445, 0.07372675,\n",
       "        0.06994688, 0.06540878, 0.06064246, 0.05601682, 0.05170547]),\n",
       " array([0.01010617, 0.02533336, 0.04276001, 0.05955217, 0.07408845,\n",
       "        0.08588922, 0.09522632, 0.10270056, 0.10894318, 0.11446933]),\n",
       " array([[ 0.05567597,  0.09529144],\n",
       "        [ 0.02677627,  0.12608121],\n",
       "        [-0.0067866 ,  0.16082957],\n",
       "        [-0.04052565,  0.19291455],\n",
       "        [-0.07148394,  0.21893744],\n",
       "        [-0.0983929 ,  0.23828665],\n",
       "        [-0.12123138,  0.25204895],\n",
       "        [-0.14064694,  0.26193186],\n",
       "        [-0.15750789,  0.26954153],\n",
       "        [-0.1726503 ,  0.27606124]]))"
      ]
     },
     "execution_count": 32,
     "metadata": {},
     "output_type": "execute_result"
    }
   ],
   "source": [
    "model_fit.forecast(10)"
   ]
  },
  {
   "cell_type": "code",
   "execution_count": null,
   "id": "e707e540",
   "metadata": {},
   "outputs": [],
   "source": []
  },
  {
   "cell_type": "code",
   "execution_count": null,
   "id": "cbf09687",
   "metadata": {},
   "outputs": [],
   "source": []
  }
 ],
 "metadata": {
  "kernelspec": {
   "display_name": "Python 3",
   "language": "python",
   "name": "python3"
  },
  "language_info": {
   "codemirror_mode": {
    "name": "ipython",
    "version": 3
   },
   "file_extension": ".py",
   "mimetype": "text/x-python",
   "name": "python",
   "nbconvert_exporter": "python",
   "pygments_lexer": "ipython3",
   "version": "3.8.8"
  }
 },
 "nbformat": 4,
 "nbformat_minor": 5
}
